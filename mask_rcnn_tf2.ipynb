{
  "cells": [
    {
      "cell_type": "markdown",
      "metadata": {
        "id": "view-in-github",
        "colab_type": "text"
      },
      "source": [
        "<a href=\"https://colab.research.google.com/github/azzabaatout/Mask-RCNN-TF2/blob/master/mask_rcnn_tf2.ipynb\" target=\"_parent\"><img src=\"https://colab.research.google.com/assets/colab-badge.svg\" alt=\"Open In Colab\"/></a>"
      ]
    },
    {
      "cell_type": "markdown",
      "metadata": {
        "id": "FdUxgGn1_66G"
      },
      "source": [
        "# **SETUP**"
      ]
    },
    {
      "cell_type": "code",
      "execution_count": null,
      "metadata": {
        "id": "kdv_npfv6Z-P"
      },
      "outputs": [],
      "source": [
        "!git clone https://github.com/azzabaatout/Mask-RCNN-TF2.git"
      ]
    },
    {
      "cell_type": "code",
      "source": [
        "!pip3 install scikit-image==0.16.2\n",
        "!pip3 install opencv-python"
      ],
      "metadata": {
        "id": "CYTUBjX6Fm_C"
      },
      "execution_count": null,
      "outputs": []
    },
    {
      "cell_type": "code",
      "source": [
        "!pip uninstall tensorflow -y\n",
        "!pip uninstall keras -y\n",
        "!pip install tensorflow-gpu==2.2.0\n",
        "!pip install keras==2.3.1"
      ],
      "metadata": {
        "id": "xx0sbobRE9cX"
      },
      "execution_count": null,
      "outputs": []
    },
    {
      "cell_type": "markdown",
      "metadata": {
        "id": "_I2gq5JqsPmy"
      },
      "source": []
    },
    {
      "cell_type": "code",
      "execution_count": null,
      "metadata": {
        "id": "pHqTQ3uY6Z5G",
        "colab": {
          "base_uri": "https://localhost:8080/"
        },
        "outputId": "a0a0e7e6-0ec1-4269-fa02-6ed8975668e2"
      },
      "outputs": [
        {
          "output_type": "stream",
          "name": "stdout",
          "text": [
            "2.2.0\n",
            "2.3.1\n",
            "0.16.2\n"
          ]
        },
        {
          "output_type": "stream",
          "name": "stderr",
          "text": [
            "Using TensorFlow backend.\n"
          ]
        }
      ],
      "source": [
        "import tensorflow\n",
        "import keras\n",
        "import skimage\n",
        "\n",
        "print(tensorflow.__version__)\n",
        "print(keras.__version__)\n",
        "print(skimage.__version__)"
      ]
    },
    {
      "cell_type": "code",
      "execution_count": null,
      "metadata": {
        "id": "fBCbFkQW6aBg",
        "colab": {
          "base_uri": "https://localhost:8080/"
        },
        "outputId": "5f070682-75ea-47eb-84a9-09a2f1668a44"
      },
      "outputs": [
        {
          "output_type": "stream",
          "name": "stdout",
          "text": [
            "assets\t MANIFEST.in\t\t\t   mrcnn\t\t     samples\n",
            "FIRST\t maskrcnn_predict_directed.py\t   mrcnn_directed\t     setup.cfg\n",
            "images\t maskrcnn_predict_directed_RPN.py  object-transfer-learning  setup.py\n",
            "LICENSE  maskrcnn_predict.py\t\t   requirements.txt\t     test.jpg\n"
          ]
        }
      ],
      "source": [
        "!ls ./Mask-RCNN-TF2\n"
      ]
    },
    {
      "cell_type": "code",
      "execution_count": null,
      "metadata": {
        "id": "29vgjrBq6aEp",
        "colab": {
          "base_uri": "https://localhost:8080/"
        },
        "outputId": "9db590ff-7182-47a4-ffc8-8a2304fd9427"
      },
      "outputs": [
        {
          "output_type": "stream",
          "name": "stdout",
          "text": [
            "object\tobject_prediction.py  object_training.py\n"
          ]
        }
      ],
      "source": [
        "!ls ./Mask-RCNN-TF2/object-transfer-learning"
      ]
    },
    {
      "cell_type": "code",
      "execution_count": null,
      "metadata": {
        "id": "O3v1DUZf6aHc",
        "colab": {
          "base_uri": "https://localhost:8080/"
        },
        "outputId": "c937cea3-a845-49f0-b72d-e09ea1668625"
      },
      "outputs": [
        {
          "output_type": "stream",
          "name": "stdout",
          "text": [
            "/content/Mask-RCNN-TF2/object-transfer-learning/object\n",
            "annots\ttrain  val\n"
          ]
        }
      ],
      "source": [
        "%cd ./Mask-RCNN-TF2/object-transfer-learning/object\n",
        "!ls"
      ]
    },
    {
      "cell_type": "markdown",
      "metadata": {
        "id": "vs4aMMI1ADTx"
      },
      "source": [
        "# **List the Images in the images Directory**"
      ]
    },
    {
      "cell_type": "markdown",
      "metadata": {
        "id": "pV-N6VS7AJdV"
      },
      "source": [
        "**LIST THE FILES**"
      ]
    },
    {
      "cell_type": "code",
      "execution_count": null,
      "metadata": {
        "id": "3ECkU92S6aPv",
        "colab": {
          "base_uri": "https://localhost:8080/"
        },
        "outputId": "4d8d35a2-2e56-48f4-a143-8ad83f34f58a"
      },
      "outputs": [
        {
          "output_type": "stream",
          "name": "stdout",
          "text": [
            "annotations_train.json\tannotations_val.json\n",
            "2\n"
          ]
        }
      ],
      "source": [
        "!ls ./annots\n",
        "!ls ./annots -l . | egrep -c '^-' # Count the number of files in the directory. "
      ]
    },
    {
      "cell_type": "code",
      "execution_count": null,
      "metadata": {
        "id": "P76XYoRe7CjX",
        "colab": {
          "base_uri": "https://localhost:8080/"
        },
        "outputId": "55891dd3-295d-42ac-e585-bc02484d8f6f"
      },
      "outputs": [
        {
          "output_type": "stream",
          "name": "stdout",
          "text": [
            "/content/Mask-RCNN-TF2\n"
          ]
        }
      ],
      "source": [
        "%cd ../.."
      ]
    },
    {
      "cell_type": "markdown",
      "metadata": {
        "id": "f9m8OxuyAjdJ"
      },
      "source": [
        "**Training Steps**"
      ]
    },
    {
      "cell_type": "code",
      "execution_count": null,
      "metadata": {
        "id": "s6RIiWtI7CmL",
        "colab": {
          "base_uri": "https://localhost:8080/"
        },
        "outputId": "3a18c9dd-1134-4ef9-ab70-36d512ac8079"
      },
      "outputs": [
        {
          "output_type": "stream",
          "name": "stderr",
          "text": [
            "/content/Mask-RCNN-TF2/mrcnn/model.py:2370: SyntaxWarning: \"is\" with a literal. Did you mean \"==\"?\n",
            "  if os.name is 'nt':\n"
          ]
        }
      ],
      "source": [
        "import os\n",
        "import json\n",
        "import xml.etree\n",
        "from numpy import zeros, asarray\n",
        "\n",
        "import mrcnn\n",
        "import mrcnn.utils\n",
        "import mrcnn.config\n",
        "import mrcnn.model\n",
        "\n",
        "class ObjectDataset(mrcnn.utils.Dataset):\n",
        "\n",
        "    def load_dataset(self, annotation_json, images_dir, dataset_type=\"train\"):\n",
        "        \"\"\" Load the coco-like dataset from json\n",
        "        Args:\n",
        "            annotation_json: The path to the coco annotations json file\n",
        "            images_dir: The directory holding the images referred to by the json file\n",
        "        \"\"\"\n",
        "\n",
        "        # Load json from file\n",
        "        print(\"Annotation json path: \", annotation_json)\n",
        "        json_file = open(annotation_json)\n",
        "        coco_json = json.load(json_file)\n",
        "        json_file.close()\n",
        "\n",
        "        # Add the class names using the base method from utils.Dataset\n",
        "        source_name = \"coco_like\"\n",
        "        for category in coco_json['categories']:\n",
        "            class_id = category['id']\n",
        "\n",
        "            class_name = category['name']\n",
        "            if class_id < 1:\n",
        "                print('Error: Class id for \"{}\" cannot be less than one. (0 is reserved for the background)'.format(\n",
        "                    class_name))\n",
        "                return\n",
        "\n",
        "            self.add_class(source_name, class_id, class_name)\n",
        "\n",
        "        # Get all annotations\n",
        "        annotations = {}\n",
        "        for annotation in coco_json['annotations']:\n",
        "            image_id = annotation['image_id']\n",
        "            if image_id not in annotations:\n",
        "                annotations[image_id] = []\n",
        "            annotations[image_id].append(annotation)\n",
        "\n",
        "        # Get all images and add them to the dataset\n",
        "        seen_images = {}\n",
        "\n",
        "        # Split the dataset, if train, get 90%, else 10%\n",
        "        len_images = len(coco_json['images'])\n",
        "        if dataset_type == \"train\":\n",
        "            img_range = [int(len_images / 9), len_images]\n",
        "        else:\n",
        "            img_range = [0, int(len_images / 9)]\n",
        "\n",
        "        for i in range(img_range[0], img_range[1]):\n",
        "            image = coco_json['images'][i]\n",
        "            image_id = image['id']\n",
        "            if image_id in seen_images:\n",
        "                print(\"Warning: Skipping duplicate image id: {}\".format(image))\n",
        "            else:\n",
        "                seen_images[image_id] = image\n",
        "                try:\n",
        "                    image_file_name = image['file_name']\n",
        "                    image_width = image['width']\n",
        "                    image_height = image['height']\n",
        "                except KeyError as key:\n",
        "                    print(\"Warning: Skipping image (id: {}) with missing key: {}\".format(image_id, key))\n",
        "\n",
        "                image_path = os.path.abspath(os.path.join(images_dir, image_file_name))\n",
        "                image_annotations = annotations[image_id]\n",
        "\n",
        "                # Add the image using the base method from utils.Dataset\n",
        "                self.add_image(\n",
        "                    source=source_name,\n",
        "                    image_id=image_id,\n",
        "                    path=image_path,\n",
        "                    width=image_width,\n",
        "                    height=image_height,\n",
        "                    annotations=image_annotations\n",
        "                )\n",
        "\n",
        "    # def load_dataset(self, dataset_dir, is_train=True):\n",
        "    #     self.add_class(\"dataset\", 1, \"kangaroo\")\n",
        "\n",
        "    #     images_dir = dataset_dir + '/images/'\n",
        "    #     annotations_dir = dataset_dir + '/annots/'\n",
        "\n",
        "    #     for filename in os.listdir(images_dir):\n",
        "    #         image_id = filename[:-4]\n",
        "\n",
        "    #         if is_train and int(image_id) >= 150:\n",
        "    #             continue\n",
        "\n",
        "    #         if not is_train and int(image_id) < 150:\n",
        "    #             continue\n",
        "\n",
        "    #         img_path = images_dir + filename\n",
        "    #         ann_path = annotations_dir + image_id + '.xml'\n",
        "\n",
        "    #         self.add_image('dataset', image_id=image_id, path=img_path, annotation=ann_path)\n",
        "\n",
        "    def load_mask(self, image_id):\n",
        "        \"\"\" Load instance masks for the given image.\n",
        "        MaskRCNN expects masks in the form of a bitmap [height, width, instances].\n",
        "        Args:\n",
        "            image_id: The id of the image to load masks for\n",
        "        Returns:\n",
        "            masks: A bool array of shape [height, width, instance count] with\n",
        "                one mask per instance.\n",
        "            class_ids: a 1D array of class IDs of the instance masks.\n",
        "        \"\"\"\n",
        "        image_info = self.image_info[image_id]\n",
        "        annotations = image_info['annotations']\n",
        "        instance_masks = []\n",
        "        class_ids = []\n",
        "\n",
        "        for annotation in annotations:\n",
        "            class_id = annotation['category_id']\n",
        "            mask = Image.new('1', (image_info['width'], image_info['height']))\n",
        "            mask_draw = ImageDraw.ImageDraw(mask, '1')\n",
        "            for segmentation in annotation['segmentation']:\n",
        "                mask_draw.polygon(segmentation, fill=1)\n",
        "                bool_array = np.array(mask) > 0\n",
        "                instance_masks.append(bool_array)\n",
        "                class_ids.append(class_id)\n",
        "\n",
        "        mask = np.dstack(instance_masks)\n",
        "        class_ids = np.array(class_ids, dtype=np.int32)\n",
        "        # print(\"Class_ids, \", class_ids)\n",
        "        return mask, class_ids\n",
        "\n",
        "\n",
        "    # def load_mask(self, image_id):\n",
        "    #     info = self.image_info[image_id]\n",
        "    #     path = info['annotation']\n",
        "    #     boxes, w, h = self.extract_boxes(path)\n",
        "    #     masks = zeros([h, w, len(boxes)], dtype='uint8')\n",
        "\n",
        "    #     class_ids = list()\n",
        "    #     for i in range(len(boxes)):\n",
        "    #         box = boxes[i]\n",
        "    #         row_s, row_e = box[1], box[3]\n",
        "    #         col_s, col_e = box[0], box[2]\n",
        "    #         masks[row_s:row_e, col_s:col_e, i] = 1\n",
        "    #         class_ids.append(self.class_names.index('kangaroo'))\n",
        "    #     return masks, asarray(class_ids, dtype='int32')\n",
        "\n",
        "    # A helper method to extract the bounding boxes from the annotation file\n",
        "\n",
        "    # def extract_boxes(self, filename):\n",
        "    #     tree = xml.etree.ElementTree.parse(filename)\n",
        "\n",
        "    #     root = tree.getroot()\n",
        "\n",
        "    #     boxes = list()\n",
        "    #     for box in root.findall('.//bndbox'):\n",
        "    #         xmin = int(box.find('xmin').text)\n",
        "    #         ymin = int(box.find('ymin').text)\n",
        "    #         xmax = int(box.find('xmax').text)\n",
        "    #         ymax = int(box.find('ymax').text)\n",
        "    #         coors = [xmin, ymin, xmax, ymax]\n",
        "    #         boxes.append(coors)\n",
        "\n",
        "    #     width = int(root.find('.//size/width').text)\n",
        "    #     height = int(root.find('.//size/height').text)\n",
        "    #     return boxes, width, height"
      ]
    },
    {
      "cell_type": "code",
      "execution_count": null,
      "metadata": {
        "id": "bQdoOkDj7CpF",
        "colab": {
          "base_uri": "https://localhost:8080/"
        },
        "outputId": "8a54c581-c835-46a7-e53e-70676603c815"
      },
      "outputs": [
        {
          "output_type": "stream",
          "name": "stdout",
          "text": [
            "Annotation json path:  ./object-transfer-learning/object/annots/annotations_train.json\n",
            "Annotation json path:  ./object-transfer-learning/object/annots/annotations_val.json\n"
          ]
        }
      ],
      "source": [
        "# Train\n",
        "train_dataset = ObjectDataset()\n",
        "train_dataset.load_dataset(annotation_json='./object-transfer-learning/object/annots/annotations_train.json', images_dir='./object-transfer-learning/object/train', dataset_type=\"train\")\n",
        "train_dataset.prepare()\n",
        "\n",
        "# Validation\n",
        "validation_dataset = ObjectDataset()\n",
        "validation_dataset.load_dataset(annotation_json='./object-transfer-learning/object/annots/annotations_val.json', images_dir='./object-transfer-learning/object/val', dataset_type=\"val\")\n",
        "validation_dataset.prepare()"
      ]
    },
    {
      "cell_type": "markdown",
      "metadata": {
        "id": "7WBv0rgJAnm2"
      },
      "source": [
        "**EXTEND THE CONFIG CLASS**"
      ]
    },
    {
      "cell_type": "code",
      "execution_count": null,
      "metadata": {
        "id": "4fIAFbzZ7NrQ"
      },
      "outputs": [],
      "source": [
        "class ObjectConfig(mrcnn.config.Config):\n",
        "    NAME = \"object\"\n",
        "\n",
        "    GPU_COUNT = 1\n",
        "    IMAGES_PER_GPU = 1\n",
        "    \n",
        "    NUM_CLASSES = 3 # bk + line + circle\n",
        "    \n",
        "    LEARNING_RATE = 0.001\n",
        "\n",
        "    STEPS_PER_EPOCH = 100"
      ]
    },
    {
      "cell_type": "code",
      "execution_count": null,
      "metadata": {
        "id": "xtVPAc8O7NuH",
        "colab": {
          "base_uri": "https://localhost:8080/"
        },
        "outputId": "c63892ed-922e-4057-96ae-17aaedd01112"
      },
      "outputs": [
        {
          "output_type": "stream",
          "name": "stdout",
          "text": [
            "\n",
            "Configurations:\n",
            "BACKBONE                       resnet101\n",
            "BACKBONE_STRIDES               [4, 8, 16, 32, 64]\n",
            "BATCH_SIZE                     1\n",
            "BBOX_STD_DEV                   [0.1 0.1 0.2 0.2]\n",
            "COMPUTE_BACKBONE_SHAPE         None\n",
            "DETECTION_MAX_INSTANCES        100\n",
            "DETECTION_MIN_CONFIDENCE       0.7\n",
            "DETECTION_NMS_THRESHOLD        0.3\n",
            "FPN_CLASSIF_FC_LAYERS_SIZE     1024\n",
            "GPU_COUNT                      1\n",
            "GRADIENT_CLIP_NORM             5.0\n",
            "IMAGES_PER_GPU                 1\n",
            "IMAGE_CHANNEL_COUNT            3\n",
            "IMAGE_MAX_DIM                  1024\n",
            "IMAGE_META_SIZE                15\n",
            "IMAGE_MIN_DIM                  800\n",
            "IMAGE_MIN_SCALE                0\n",
            "IMAGE_RESIZE_MODE              square\n",
            "IMAGE_SHAPE                    [1024 1024    3]\n",
            "LEARNING_MOMENTUM              0.9\n",
            "LEARNING_RATE                  0.001\n",
            "LOSS_WEIGHTS                   {'rpn_class_loss': 1.0, 'rpn_bbox_loss': 1.0, 'mrcnn_class_loss': 1.0, 'mrcnn_bbox_loss': 1.0, 'mrcnn_mask_loss': 1.0}\n",
            "MASK_POOL_SIZE                 14\n",
            "MASK_SHAPE                     [28, 28]\n",
            "MAX_GT_INSTANCES               100\n",
            "MEAN_PIXEL                     [123.7 116.8 103.9]\n",
            "MINI_MASK_SHAPE                (56, 56)\n",
            "NAME                           object\n",
            "NUM_CLASSES                    3\n",
            "POOL_SIZE                      7\n",
            "POST_NMS_ROIS_INFERENCE        1000\n",
            "POST_NMS_ROIS_TRAINING         2000\n",
            "PRE_NMS_LIMIT                  6000\n",
            "ROI_POSITIVE_RATIO             0.33\n",
            "RPN_ANCHOR_RATIOS              [0.5, 1, 2]\n",
            "RPN_ANCHOR_SCALES              (32, 64, 128, 256, 512)\n",
            "RPN_ANCHOR_STRIDE              1\n",
            "RPN_BBOX_STD_DEV               [0.1 0.1 0.2 0.2]\n",
            "RPN_NMS_THRESHOLD              0.7\n",
            "RPN_TRAIN_ANCHORS_PER_IMAGE    256\n",
            "STEPS_PER_EPOCH                100\n",
            "TOP_DOWN_PYRAMID_SIZE          256\n",
            "TRAIN_BN                       False\n",
            "TRAIN_ROIS_PER_IMAGE           200\n",
            "USE_MINI_MASK                  True\n",
            "USE_RPN_ROIS                   True\n",
            "VALIDATION_STEPS               50\n",
            "WEIGHT_DECAY                   0.0001\n",
            "\n",
            "\n"
          ]
        }
      ],
      "source": [
        "object_config = ObjectConfig()\n",
        "object_config.display()\n"
      ]
    },
    {
      "cell_type": "markdown",
      "metadata": {
        "id": "aa-womDOAsYW"
      },
      "source": [
        "**BUILD MODEL**"
      ]
    },
    {
      "cell_type": "code",
      "execution_count": null,
      "metadata": {
        "id": "_NM2bea97Nw9",
        "colab": {
          "base_uri": "https://localhost:8080/"
        },
        "outputId": "5181ae12-4bc0-4a90-95d4-5ad3de788e5f"
      },
      "outputs": [
        {
          "output_type": "stream",
          "name": "stdout",
          "text": [
            "Model: \"mask_rcnn\"\n",
            "__________________________________________________________________________________________________\n",
            "Layer (type)                    Output Shape         Param #     Connected to                     \n",
            "==================================================================================================\n",
            "input_image (InputLayer)        (None, None, None, 3 0                                            \n",
            "__________________________________________________________________________________________________\n",
            "zero_padding2d_2 (ZeroPadding2D (None, None, None, 3 0           input_image[0][0]                \n",
            "__________________________________________________________________________________________________\n",
            "conv1 (Conv2D)                  (None, None, None, 6 9472        zero_padding2d_2[0][0]           \n",
            "__________________________________________________________________________________________________\n",
            "bn_conv1 (BatchNorm)            (None, None, None, 6 256         conv1[0][0]                      \n",
            "__________________________________________________________________________________________________\n",
            "activation_75 (Activation)      (None, None, None, 6 0           bn_conv1[0][0]                   \n",
            "__________________________________________________________________________________________________\n",
            "max_pooling2d_2 (MaxPooling2D)  (None, None, None, 6 0           activation_75[0][0]              \n",
            "__________________________________________________________________________________________________\n",
            "res2a_branch2a (Conv2D)         (None, None, None, 6 4160        max_pooling2d_2[0][0]            \n",
            "__________________________________________________________________________________________________\n",
            "bn2a_branch2a (BatchNorm)       (None, None, None, 6 256         res2a_branch2a[0][0]             \n",
            "__________________________________________________________________________________________________\n",
            "activation_76 (Activation)      (None, None, None, 6 0           bn2a_branch2a[0][0]              \n",
            "__________________________________________________________________________________________________\n",
            "res2a_branch2b (Conv2D)         (None, None, None, 6 36928       activation_76[0][0]              \n",
            "__________________________________________________________________________________________________\n",
            "bn2a_branch2b (BatchNorm)       (None, None, None, 6 256         res2a_branch2b[0][0]             \n",
            "__________________________________________________________________________________________________\n",
            "activation_77 (Activation)      (None, None, None, 6 0           bn2a_branch2b[0][0]              \n",
            "__________________________________________________________________________________________________\n",
            "res2a_branch2c (Conv2D)         (None, None, None, 2 16640       activation_77[0][0]              \n",
            "__________________________________________________________________________________________________\n",
            "res2a_branch1 (Conv2D)          (None, None, None, 2 16640       max_pooling2d_2[0][0]            \n",
            "__________________________________________________________________________________________________\n",
            "bn2a_branch2c (BatchNorm)       (None, None, None, 2 1024        res2a_branch2c[0][0]             \n",
            "__________________________________________________________________________________________________\n",
            "bn2a_branch1 (BatchNorm)        (None, None, None, 2 1024        res2a_branch1[0][0]              \n",
            "__________________________________________________________________________________________________\n",
            "add_34 (Add)                    (None, None, None, 2 0           bn2a_branch2c[0][0]              \n",
            "                                                                 bn2a_branch1[0][0]               \n",
            "__________________________________________________________________________________________________\n",
            "res2a_out (Activation)          (None, None, None, 2 0           add_34[0][0]                     \n",
            "__________________________________________________________________________________________________\n",
            "res2b_branch2a (Conv2D)         (None, None, None, 6 16448       res2a_out[0][0]                  \n",
            "__________________________________________________________________________________________________\n",
            "bn2b_branch2a (BatchNorm)       (None, None, None, 6 256         res2b_branch2a[0][0]             \n",
            "__________________________________________________________________________________________________\n",
            "activation_78 (Activation)      (None, None, None, 6 0           bn2b_branch2a[0][0]              \n",
            "__________________________________________________________________________________________________\n",
            "res2b_branch2b (Conv2D)         (None, None, None, 6 36928       activation_78[0][0]              \n",
            "__________________________________________________________________________________________________\n",
            "bn2b_branch2b (BatchNorm)       (None, None, None, 6 256         res2b_branch2b[0][0]             \n",
            "__________________________________________________________________________________________________\n",
            "activation_79 (Activation)      (None, None, None, 6 0           bn2b_branch2b[0][0]              \n",
            "__________________________________________________________________________________________________\n",
            "res2b_branch2c (Conv2D)         (None, None, None, 2 16640       activation_79[0][0]              \n",
            "__________________________________________________________________________________________________\n",
            "bn2b_branch2c (BatchNorm)       (None, None, None, 2 1024        res2b_branch2c[0][0]             \n",
            "__________________________________________________________________________________________________\n",
            "add_35 (Add)                    (None, None, None, 2 0           bn2b_branch2c[0][0]              \n",
            "                                                                 res2a_out[0][0]                  \n",
            "__________________________________________________________________________________________________\n",
            "res2b_out (Activation)          (None, None, None, 2 0           add_35[0][0]                     \n",
            "__________________________________________________________________________________________________\n",
            "res2c_branch2a (Conv2D)         (None, None, None, 6 16448       res2b_out[0][0]                  \n",
            "__________________________________________________________________________________________________\n",
            "bn2c_branch2a (BatchNorm)       (None, None, None, 6 256         res2c_branch2a[0][0]             \n",
            "__________________________________________________________________________________________________\n",
            "activation_80 (Activation)      (None, None, None, 6 0           bn2c_branch2a[0][0]              \n",
            "__________________________________________________________________________________________________\n",
            "res2c_branch2b (Conv2D)         (None, None, None, 6 36928       activation_80[0][0]              \n",
            "__________________________________________________________________________________________________\n",
            "bn2c_branch2b (BatchNorm)       (None, None, None, 6 256         res2c_branch2b[0][0]             \n",
            "__________________________________________________________________________________________________\n",
            "activation_81 (Activation)      (None, None, None, 6 0           bn2c_branch2b[0][0]              \n",
            "__________________________________________________________________________________________________\n",
            "res2c_branch2c (Conv2D)         (None, None, None, 2 16640       activation_81[0][0]              \n",
            "__________________________________________________________________________________________________\n",
            "bn2c_branch2c (BatchNorm)       (None, None, None, 2 1024        res2c_branch2c[0][0]             \n",
            "__________________________________________________________________________________________________\n",
            "add_36 (Add)                    (None, None, None, 2 0           bn2c_branch2c[0][0]              \n",
            "                                                                 res2b_out[0][0]                  \n",
            "__________________________________________________________________________________________________\n",
            "res2c_out (Activation)          (None, None, None, 2 0           add_36[0][0]                     \n",
            "__________________________________________________________________________________________________\n",
            "res3a_branch2a (Conv2D)         (None, None, None, 1 32896       res2c_out[0][0]                  \n",
            "__________________________________________________________________________________________________\n",
            "bn3a_branch2a (BatchNorm)       (None, None, None, 1 512         res3a_branch2a[0][0]             \n",
            "__________________________________________________________________________________________________\n",
            "activation_82 (Activation)      (None, None, None, 1 0           bn3a_branch2a[0][0]              \n",
            "__________________________________________________________________________________________________\n",
            "res3a_branch2b (Conv2D)         (None, None, None, 1 147584      activation_82[0][0]              \n",
            "__________________________________________________________________________________________________\n",
            "bn3a_branch2b (BatchNorm)       (None, None, None, 1 512         res3a_branch2b[0][0]             \n",
            "__________________________________________________________________________________________________\n",
            "activation_83 (Activation)      (None, None, None, 1 0           bn3a_branch2b[0][0]              \n",
            "__________________________________________________________________________________________________\n",
            "res3a_branch2c (Conv2D)         (None, None, None, 5 66048       activation_83[0][0]              \n",
            "__________________________________________________________________________________________________\n",
            "res3a_branch1 (Conv2D)          (None, None, None, 5 131584      res2c_out[0][0]                  \n",
            "__________________________________________________________________________________________________\n",
            "bn3a_branch2c (BatchNorm)       (None, None, None, 5 2048        res3a_branch2c[0][0]             \n",
            "__________________________________________________________________________________________________\n",
            "bn3a_branch1 (BatchNorm)        (None, None, None, 5 2048        res3a_branch1[0][0]              \n",
            "__________________________________________________________________________________________________\n",
            "add_37 (Add)                    (None, None, None, 5 0           bn3a_branch2c[0][0]              \n",
            "                                                                 bn3a_branch1[0][0]               \n",
            "__________________________________________________________________________________________________\n",
            "res3a_out (Activation)          (None, None, None, 5 0           add_37[0][0]                     \n",
            "__________________________________________________________________________________________________\n",
            "res3b_branch2a (Conv2D)         (None, None, None, 1 65664       res3a_out[0][0]                  \n",
            "__________________________________________________________________________________________________\n",
            "bn3b_branch2a (BatchNorm)       (None, None, None, 1 512         res3b_branch2a[0][0]             \n",
            "__________________________________________________________________________________________________\n",
            "activation_84 (Activation)      (None, None, None, 1 0           bn3b_branch2a[0][0]              \n",
            "__________________________________________________________________________________________________\n",
            "res3b_branch2b (Conv2D)         (None, None, None, 1 147584      activation_84[0][0]              \n",
            "__________________________________________________________________________________________________\n",
            "bn3b_branch2b (BatchNorm)       (None, None, None, 1 512         res3b_branch2b[0][0]             \n",
            "__________________________________________________________________________________________________\n",
            "activation_85 (Activation)      (None, None, None, 1 0           bn3b_branch2b[0][0]              \n",
            "__________________________________________________________________________________________________\n",
            "res3b_branch2c (Conv2D)         (None, None, None, 5 66048       activation_85[0][0]              \n",
            "__________________________________________________________________________________________________\n",
            "bn3b_branch2c (BatchNorm)       (None, None, None, 5 2048        res3b_branch2c[0][0]             \n",
            "__________________________________________________________________________________________________\n",
            "add_38 (Add)                    (None, None, None, 5 0           bn3b_branch2c[0][0]              \n",
            "                                                                 res3a_out[0][0]                  \n",
            "__________________________________________________________________________________________________\n",
            "res3b_out (Activation)          (None, None, None, 5 0           add_38[0][0]                     \n",
            "__________________________________________________________________________________________________\n",
            "res3c_branch2a (Conv2D)         (None, None, None, 1 65664       res3b_out[0][0]                  \n",
            "__________________________________________________________________________________________________\n",
            "bn3c_branch2a (BatchNorm)       (None, None, None, 1 512         res3c_branch2a[0][0]             \n",
            "__________________________________________________________________________________________________\n",
            "activation_86 (Activation)      (None, None, None, 1 0           bn3c_branch2a[0][0]              \n",
            "__________________________________________________________________________________________________\n",
            "res3c_branch2b (Conv2D)         (None, None, None, 1 147584      activation_86[0][0]              \n",
            "__________________________________________________________________________________________________\n",
            "bn3c_branch2b (BatchNorm)       (None, None, None, 1 512         res3c_branch2b[0][0]             \n",
            "__________________________________________________________________________________________________\n",
            "activation_87 (Activation)      (None, None, None, 1 0           bn3c_branch2b[0][0]              \n",
            "__________________________________________________________________________________________________\n",
            "res3c_branch2c (Conv2D)         (None, None, None, 5 66048       activation_87[0][0]              \n",
            "__________________________________________________________________________________________________\n",
            "bn3c_branch2c (BatchNorm)       (None, None, None, 5 2048        res3c_branch2c[0][0]             \n",
            "__________________________________________________________________________________________________\n",
            "add_39 (Add)                    (None, None, None, 5 0           bn3c_branch2c[0][0]              \n",
            "                                                                 res3b_out[0][0]                  \n",
            "__________________________________________________________________________________________________\n",
            "res3c_out (Activation)          (None, None, None, 5 0           add_39[0][0]                     \n",
            "__________________________________________________________________________________________________\n",
            "res3d_branch2a (Conv2D)         (None, None, None, 1 65664       res3c_out[0][0]                  \n",
            "__________________________________________________________________________________________________\n",
            "bn3d_branch2a (BatchNorm)       (None, None, None, 1 512         res3d_branch2a[0][0]             \n",
            "__________________________________________________________________________________________________\n",
            "activation_88 (Activation)      (None, None, None, 1 0           bn3d_branch2a[0][0]              \n",
            "__________________________________________________________________________________________________\n",
            "res3d_branch2b (Conv2D)         (None, None, None, 1 147584      activation_88[0][0]              \n",
            "__________________________________________________________________________________________________\n",
            "bn3d_branch2b (BatchNorm)       (None, None, None, 1 512         res3d_branch2b[0][0]             \n",
            "__________________________________________________________________________________________________\n",
            "activation_89 (Activation)      (None, None, None, 1 0           bn3d_branch2b[0][0]              \n",
            "__________________________________________________________________________________________________\n",
            "res3d_branch2c (Conv2D)         (None, None, None, 5 66048       activation_89[0][0]              \n",
            "__________________________________________________________________________________________________\n",
            "bn3d_branch2c (BatchNorm)       (None, None, None, 5 2048        res3d_branch2c[0][0]             \n",
            "__________________________________________________________________________________________________\n",
            "add_40 (Add)                    (None, None, None, 5 0           bn3d_branch2c[0][0]              \n",
            "                                                                 res3c_out[0][0]                  \n",
            "__________________________________________________________________________________________________\n",
            "res3d_out (Activation)          (None, None, None, 5 0           add_40[0][0]                     \n",
            "__________________________________________________________________________________________________\n",
            "res4a_branch2a (Conv2D)         (None, None, None, 2 131328      res3d_out[0][0]                  \n",
            "__________________________________________________________________________________________________\n",
            "bn4a_branch2a (BatchNorm)       (None, None, None, 2 1024        res4a_branch2a[0][0]             \n",
            "__________________________________________________________________________________________________\n",
            "activation_90 (Activation)      (None, None, None, 2 0           bn4a_branch2a[0][0]              \n",
            "__________________________________________________________________________________________________\n",
            "res4a_branch2b (Conv2D)         (None, None, None, 2 590080      activation_90[0][0]              \n",
            "__________________________________________________________________________________________________\n",
            "bn4a_branch2b (BatchNorm)       (None, None, None, 2 1024        res4a_branch2b[0][0]             \n",
            "__________________________________________________________________________________________________\n",
            "activation_91 (Activation)      (None, None, None, 2 0           bn4a_branch2b[0][0]              \n",
            "__________________________________________________________________________________________________\n",
            "res4a_branch2c (Conv2D)         (None, None, None, 1 263168      activation_91[0][0]              \n",
            "__________________________________________________________________________________________________\n",
            "res4a_branch1 (Conv2D)          (None, None, None, 1 525312      res3d_out[0][0]                  \n",
            "__________________________________________________________________________________________________\n",
            "bn4a_branch2c (BatchNorm)       (None, None, None, 1 4096        res4a_branch2c[0][0]             \n",
            "__________________________________________________________________________________________________\n",
            "bn4a_branch1 (BatchNorm)        (None, None, None, 1 4096        res4a_branch1[0][0]              \n",
            "__________________________________________________________________________________________________\n",
            "add_41 (Add)                    (None, None, None, 1 0           bn4a_branch2c[0][0]              \n",
            "                                                                 bn4a_branch1[0][0]               \n",
            "__________________________________________________________________________________________________\n",
            "res4a_out (Activation)          (None, None, None, 1 0           add_41[0][0]                     \n",
            "__________________________________________________________________________________________________\n",
            "res4b_branch2a (Conv2D)         (None, None, None, 2 262400      res4a_out[0][0]                  \n",
            "__________________________________________________________________________________________________\n",
            "bn4b_branch2a (BatchNorm)       (None, None, None, 2 1024        res4b_branch2a[0][0]             \n",
            "__________________________________________________________________________________________________\n",
            "activation_92 (Activation)      (None, None, None, 2 0           bn4b_branch2a[0][0]              \n",
            "__________________________________________________________________________________________________\n",
            "res4b_branch2b (Conv2D)         (None, None, None, 2 590080      activation_92[0][0]              \n",
            "__________________________________________________________________________________________________\n",
            "bn4b_branch2b (BatchNorm)       (None, None, None, 2 1024        res4b_branch2b[0][0]             \n",
            "__________________________________________________________________________________________________\n",
            "activation_93 (Activation)      (None, None, None, 2 0           bn4b_branch2b[0][0]              \n",
            "__________________________________________________________________________________________________\n",
            "res4b_branch2c (Conv2D)         (None, None, None, 1 263168      activation_93[0][0]              \n",
            "__________________________________________________________________________________________________\n",
            "bn4b_branch2c (BatchNorm)       (None, None, None, 1 4096        res4b_branch2c[0][0]             \n",
            "__________________________________________________________________________________________________\n",
            "add_42 (Add)                    (None, None, None, 1 0           bn4b_branch2c[0][0]              \n",
            "                                                                 res4a_out[0][0]                  \n",
            "__________________________________________________________________________________________________\n",
            "res4b_out (Activation)          (None, None, None, 1 0           add_42[0][0]                     \n",
            "__________________________________________________________________________________________________\n",
            "res4c_branch2a (Conv2D)         (None, None, None, 2 262400      res4b_out[0][0]                  \n",
            "__________________________________________________________________________________________________\n",
            "bn4c_branch2a (BatchNorm)       (None, None, None, 2 1024        res4c_branch2a[0][0]             \n",
            "__________________________________________________________________________________________________\n",
            "activation_94 (Activation)      (None, None, None, 2 0           bn4c_branch2a[0][0]              \n",
            "__________________________________________________________________________________________________\n",
            "res4c_branch2b (Conv2D)         (None, None, None, 2 590080      activation_94[0][0]              \n",
            "__________________________________________________________________________________________________\n",
            "bn4c_branch2b (BatchNorm)       (None, None, None, 2 1024        res4c_branch2b[0][0]             \n",
            "__________________________________________________________________________________________________\n",
            "activation_95 (Activation)      (None, None, None, 2 0           bn4c_branch2b[0][0]              \n",
            "__________________________________________________________________________________________________\n",
            "res4c_branch2c (Conv2D)         (None, None, None, 1 263168      activation_95[0][0]              \n",
            "__________________________________________________________________________________________________\n",
            "bn4c_branch2c (BatchNorm)       (None, None, None, 1 4096        res4c_branch2c[0][0]             \n",
            "__________________________________________________________________________________________________\n",
            "add_43 (Add)                    (None, None, None, 1 0           bn4c_branch2c[0][0]              \n",
            "                                                                 res4b_out[0][0]                  \n",
            "__________________________________________________________________________________________________\n",
            "res4c_out (Activation)          (None, None, None, 1 0           add_43[0][0]                     \n",
            "__________________________________________________________________________________________________\n",
            "res4d_branch2a (Conv2D)         (None, None, None, 2 262400      res4c_out[0][0]                  \n",
            "__________________________________________________________________________________________________\n",
            "bn4d_branch2a (BatchNorm)       (None, None, None, 2 1024        res4d_branch2a[0][0]             \n",
            "__________________________________________________________________________________________________\n",
            "activation_96 (Activation)      (None, None, None, 2 0           bn4d_branch2a[0][0]              \n",
            "__________________________________________________________________________________________________\n",
            "res4d_branch2b (Conv2D)         (None, None, None, 2 590080      activation_96[0][0]              \n",
            "__________________________________________________________________________________________________\n",
            "bn4d_branch2b (BatchNorm)       (None, None, None, 2 1024        res4d_branch2b[0][0]             \n",
            "__________________________________________________________________________________________________\n",
            "activation_97 (Activation)      (None, None, None, 2 0           bn4d_branch2b[0][0]              \n",
            "__________________________________________________________________________________________________\n",
            "res4d_branch2c (Conv2D)         (None, None, None, 1 263168      activation_97[0][0]              \n",
            "__________________________________________________________________________________________________\n",
            "bn4d_branch2c (BatchNorm)       (None, None, None, 1 4096        res4d_branch2c[0][0]             \n",
            "__________________________________________________________________________________________________\n",
            "add_44 (Add)                    (None, None, None, 1 0           bn4d_branch2c[0][0]              \n",
            "                                                                 res4c_out[0][0]                  \n",
            "__________________________________________________________________________________________________\n",
            "res4d_out (Activation)          (None, None, None, 1 0           add_44[0][0]                     \n",
            "__________________________________________________________________________________________________\n",
            "res4e_branch2a (Conv2D)         (None, None, None, 2 262400      res4d_out[0][0]                  \n",
            "__________________________________________________________________________________________________\n",
            "bn4e_branch2a (BatchNorm)       (None, None, None, 2 1024        res4e_branch2a[0][0]             \n",
            "__________________________________________________________________________________________________\n",
            "activation_98 (Activation)      (None, None, None, 2 0           bn4e_branch2a[0][0]              \n",
            "__________________________________________________________________________________________________\n",
            "res4e_branch2b (Conv2D)         (None, None, None, 2 590080      activation_98[0][0]              \n",
            "__________________________________________________________________________________________________\n",
            "bn4e_branch2b (BatchNorm)       (None, None, None, 2 1024        res4e_branch2b[0][0]             \n",
            "__________________________________________________________________________________________________\n",
            "activation_99 (Activation)      (None, None, None, 2 0           bn4e_branch2b[0][0]              \n",
            "__________________________________________________________________________________________________\n",
            "res4e_branch2c (Conv2D)         (None, None, None, 1 263168      activation_99[0][0]              \n",
            "__________________________________________________________________________________________________\n",
            "bn4e_branch2c (BatchNorm)       (None, None, None, 1 4096        res4e_branch2c[0][0]             \n",
            "__________________________________________________________________________________________________\n",
            "add_45 (Add)                    (None, None, None, 1 0           bn4e_branch2c[0][0]              \n",
            "                                                                 res4d_out[0][0]                  \n",
            "__________________________________________________________________________________________________\n",
            "res4e_out (Activation)          (None, None, None, 1 0           add_45[0][0]                     \n",
            "__________________________________________________________________________________________________\n",
            "res4f_branch2a (Conv2D)         (None, None, None, 2 262400      res4e_out[0][0]                  \n",
            "__________________________________________________________________________________________________\n",
            "bn4f_branch2a (BatchNorm)       (None, None, None, 2 1024        res4f_branch2a[0][0]             \n",
            "__________________________________________________________________________________________________\n",
            "activation_100 (Activation)     (None, None, None, 2 0           bn4f_branch2a[0][0]              \n",
            "__________________________________________________________________________________________________\n",
            "res4f_branch2b (Conv2D)         (None, None, None, 2 590080      activation_100[0][0]             \n",
            "__________________________________________________________________________________________________\n",
            "bn4f_branch2b (BatchNorm)       (None, None, None, 2 1024        res4f_branch2b[0][0]             \n",
            "__________________________________________________________________________________________________\n",
            "activation_101 (Activation)     (None, None, None, 2 0           bn4f_branch2b[0][0]              \n",
            "__________________________________________________________________________________________________\n",
            "res4f_branch2c (Conv2D)         (None, None, None, 1 263168      activation_101[0][0]             \n",
            "__________________________________________________________________________________________________\n",
            "bn4f_branch2c (BatchNorm)       (None, None, None, 1 4096        res4f_branch2c[0][0]             \n",
            "__________________________________________________________________________________________________\n",
            "add_46 (Add)                    (None, None, None, 1 0           bn4f_branch2c[0][0]              \n",
            "                                                                 res4e_out[0][0]                  \n",
            "__________________________________________________________________________________________________\n",
            "res4f_out (Activation)          (None, None, None, 1 0           add_46[0][0]                     \n",
            "__________________________________________________________________________________________________\n",
            "res4g_branch2a (Conv2D)         (None, None, None, 2 262400      res4f_out[0][0]                  \n",
            "__________________________________________________________________________________________________\n",
            "bn4g_branch2a (BatchNorm)       (None, None, None, 2 1024        res4g_branch2a[0][0]             \n",
            "__________________________________________________________________________________________________\n",
            "activation_102 (Activation)     (None, None, None, 2 0           bn4g_branch2a[0][0]              \n",
            "__________________________________________________________________________________________________\n",
            "res4g_branch2b (Conv2D)         (None, None, None, 2 590080      activation_102[0][0]             \n",
            "__________________________________________________________________________________________________\n",
            "bn4g_branch2b (BatchNorm)       (None, None, None, 2 1024        res4g_branch2b[0][0]             \n",
            "__________________________________________________________________________________________________\n",
            "activation_103 (Activation)     (None, None, None, 2 0           bn4g_branch2b[0][0]              \n",
            "__________________________________________________________________________________________________\n",
            "res4g_branch2c (Conv2D)         (None, None, None, 1 263168      activation_103[0][0]             \n",
            "__________________________________________________________________________________________________\n",
            "bn4g_branch2c (BatchNorm)       (None, None, None, 1 4096        res4g_branch2c[0][0]             \n",
            "__________________________________________________________________________________________________\n",
            "add_47 (Add)                    (None, None, None, 1 0           bn4g_branch2c[0][0]              \n",
            "                                                                 res4f_out[0][0]                  \n",
            "__________________________________________________________________________________________________\n",
            "res4g_out (Activation)          (None, None, None, 1 0           add_47[0][0]                     \n",
            "__________________________________________________________________________________________________\n",
            "res4h_branch2a (Conv2D)         (None, None, None, 2 262400      res4g_out[0][0]                  \n",
            "__________________________________________________________________________________________________\n",
            "bn4h_branch2a (BatchNorm)       (None, None, None, 2 1024        res4h_branch2a[0][0]             \n",
            "__________________________________________________________________________________________________\n",
            "activation_104 (Activation)     (None, None, None, 2 0           bn4h_branch2a[0][0]              \n",
            "__________________________________________________________________________________________________\n",
            "res4h_branch2b (Conv2D)         (None, None, None, 2 590080      activation_104[0][0]             \n",
            "__________________________________________________________________________________________________\n",
            "bn4h_branch2b (BatchNorm)       (None, None, None, 2 1024        res4h_branch2b[0][0]             \n",
            "__________________________________________________________________________________________________\n",
            "activation_105 (Activation)     (None, None, None, 2 0           bn4h_branch2b[0][0]              \n",
            "__________________________________________________________________________________________________\n",
            "res4h_branch2c (Conv2D)         (None, None, None, 1 263168      activation_105[0][0]             \n",
            "__________________________________________________________________________________________________\n",
            "bn4h_branch2c (BatchNorm)       (None, None, None, 1 4096        res4h_branch2c[0][0]             \n",
            "__________________________________________________________________________________________________\n",
            "add_48 (Add)                    (None, None, None, 1 0           bn4h_branch2c[0][0]              \n",
            "                                                                 res4g_out[0][0]                  \n",
            "__________________________________________________________________________________________________\n",
            "res4h_out (Activation)          (None, None, None, 1 0           add_48[0][0]                     \n",
            "__________________________________________________________________________________________________\n",
            "res4i_branch2a (Conv2D)         (None, None, None, 2 262400      res4h_out[0][0]                  \n",
            "__________________________________________________________________________________________________\n",
            "bn4i_branch2a (BatchNorm)       (None, None, None, 2 1024        res4i_branch2a[0][0]             \n",
            "__________________________________________________________________________________________________\n",
            "activation_106 (Activation)     (None, None, None, 2 0           bn4i_branch2a[0][0]              \n",
            "__________________________________________________________________________________________________\n",
            "res4i_branch2b (Conv2D)         (None, None, None, 2 590080      activation_106[0][0]             \n",
            "__________________________________________________________________________________________________\n",
            "bn4i_branch2b (BatchNorm)       (None, None, None, 2 1024        res4i_branch2b[0][0]             \n",
            "__________________________________________________________________________________________________\n",
            "activation_107 (Activation)     (None, None, None, 2 0           bn4i_branch2b[0][0]              \n",
            "__________________________________________________________________________________________________\n",
            "res4i_branch2c (Conv2D)         (None, None, None, 1 263168      activation_107[0][0]             \n",
            "__________________________________________________________________________________________________\n",
            "bn4i_branch2c (BatchNorm)       (None, None, None, 1 4096        res4i_branch2c[0][0]             \n",
            "__________________________________________________________________________________________________\n",
            "add_49 (Add)                    (None, None, None, 1 0           bn4i_branch2c[0][0]              \n",
            "                                                                 res4h_out[0][0]                  \n",
            "__________________________________________________________________________________________________\n",
            "res4i_out (Activation)          (None, None, None, 1 0           add_49[0][0]                     \n",
            "__________________________________________________________________________________________________\n",
            "res4j_branch2a (Conv2D)         (None, None, None, 2 262400      res4i_out[0][0]                  \n",
            "__________________________________________________________________________________________________\n",
            "bn4j_branch2a (BatchNorm)       (None, None, None, 2 1024        res4j_branch2a[0][0]             \n",
            "__________________________________________________________________________________________________\n",
            "activation_108 (Activation)     (None, None, None, 2 0           bn4j_branch2a[0][0]              \n",
            "__________________________________________________________________________________________________\n",
            "res4j_branch2b (Conv2D)         (None, None, None, 2 590080      activation_108[0][0]             \n",
            "__________________________________________________________________________________________________\n",
            "bn4j_branch2b (BatchNorm)       (None, None, None, 2 1024        res4j_branch2b[0][0]             \n",
            "__________________________________________________________________________________________________\n",
            "activation_109 (Activation)     (None, None, None, 2 0           bn4j_branch2b[0][0]              \n",
            "__________________________________________________________________________________________________\n",
            "res4j_branch2c (Conv2D)         (None, None, None, 1 263168      activation_109[0][0]             \n",
            "__________________________________________________________________________________________________\n",
            "bn4j_branch2c (BatchNorm)       (None, None, None, 1 4096        res4j_branch2c[0][0]             \n",
            "__________________________________________________________________________________________________\n",
            "add_50 (Add)                    (None, None, None, 1 0           bn4j_branch2c[0][0]              \n",
            "                                                                 res4i_out[0][0]                  \n",
            "__________________________________________________________________________________________________\n",
            "res4j_out (Activation)          (None, None, None, 1 0           add_50[0][0]                     \n",
            "__________________________________________________________________________________________________\n",
            "res4k_branch2a (Conv2D)         (None, None, None, 2 262400      res4j_out[0][0]                  \n",
            "__________________________________________________________________________________________________\n",
            "bn4k_branch2a (BatchNorm)       (None, None, None, 2 1024        res4k_branch2a[0][0]             \n",
            "__________________________________________________________________________________________________\n",
            "activation_110 (Activation)     (None, None, None, 2 0           bn4k_branch2a[0][0]              \n",
            "__________________________________________________________________________________________________\n",
            "res4k_branch2b (Conv2D)         (None, None, None, 2 590080      activation_110[0][0]             \n",
            "__________________________________________________________________________________________________\n",
            "bn4k_branch2b (BatchNorm)       (None, None, None, 2 1024        res4k_branch2b[0][0]             \n",
            "__________________________________________________________________________________________________\n",
            "activation_111 (Activation)     (None, None, None, 2 0           bn4k_branch2b[0][0]              \n",
            "__________________________________________________________________________________________________\n",
            "res4k_branch2c (Conv2D)         (None, None, None, 1 263168      activation_111[0][0]             \n",
            "__________________________________________________________________________________________________\n",
            "bn4k_branch2c (BatchNorm)       (None, None, None, 1 4096        res4k_branch2c[0][0]             \n",
            "__________________________________________________________________________________________________\n",
            "add_51 (Add)                    (None, None, None, 1 0           bn4k_branch2c[0][0]              \n",
            "                                                                 res4j_out[0][0]                  \n",
            "__________________________________________________________________________________________________\n",
            "res4k_out (Activation)          (None, None, None, 1 0           add_51[0][0]                     \n",
            "__________________________________________________________________________________________________\n",
            "res4l_branch2a (Conv2D)         (None, None, None, 2 262400      res4k_out[0][0]                  \n",
            "__________________________________________________________________________________________________\n",
            "bn4l_branch2a (BatchNorm)       (None, None, None, 2 1024        res4l_branch2a[0][0]             \n",
            "__________________________________________________________________________________________________\n",
            "activation_112 (Activation)     (None, None, None, 2 0           bn4l_branch2a[0][0]              \n",
            "__________________________________________________________________________________________________\n",
            "res4l_branch2b (Conv2D)         (None, None, None, 2 590080      activation_112[0][0]             \n",
            "__________________________________________________________________________________________________\n",
            "bn4l_branch2b (BatchNorm)       (None, None, None, 2 1024        res4l_branch2b[0][0]             \n",
            "__________________________________________________________________________________________________\n",
            "activation_113 (Activation)     (None, None, None, 2 0           bn4l_branch2b[0][0]              \n",
            "__________________________________________________________________________________________________\n",
            "res4l_branch2c (Conv2D)         (None, None, None, 1 263168      activation_113[0][0]             \n",
            "__________________________________________________________________________________________________\n",
            "bn4l_branch2c (BatchNorm)       (None, None, None, 1 4096        res4l_branch2c[0][0]             \n",
            "__________________________________________________________________________________________________\n",
            "add_52 (Add)                    (None, None, None, 1 0           bn4l_branch2c[0][0]              \n",
            "                                                                 res4k_out[0][0]                  \n",
            "__________________________________________________________________________________________________\n",
            "res4l_out (Activation)          (None, None, None, 1 0           add_52[0][0]                     \n",
            "__________________________________________________________________________________________________\n",
            "res4m_branch2a (Conv2D)         (None, None, None, 2 262400      res4l_out[0][0]                  \n",
            "__________________________________________________________________________________________________\n",
            "bn4m_branch2a (BatchNorm)       (None, None, None, 2 1024        res4m_branch2a[0][0]             \n",
            "__________________________________________________________________________________________________\n",
            "activation_114 (Activation)     (None, None, None, 2 0           bn4m_branch2a[0][0]              \n",
            "__________________________________________________________________________________________________\n",
            "res4m_branch2b (Conv2D)         (None, None, None, 2 590080      activation_114[0][0]             \n",
            "__________________________________________________________________________________________________\n",
            "bn4m_branch2b (BatchNorm)       (None, None, None, 2 1024        res4m_branch2b[0][0]             \n",
            "__________________________________________________________________________________________________\n",
            "activation_115 (Activation)     (None, None, None, 2 0           bn4m_branch2b[0][0]              \n",
            "__________________________________________________________________________________________________\n",
            "res4m_branch2c (Conv2D)         (None, None, None, 1 263168      activation_115[0][0]             \n",
            "__________________________________________________________________________________________________\n",
            "bn4m_branch2c (BatchNorm)       (None, None, None, 1 4096        res4m_branch2c[0][0]             \n",
            "__________________________________________________________________________________________________\n",
            "add_53 (Add)                    (None, None, None, 1 0           bn4m_branch2c[0][0]              \n",
            "                                                                 res4l_out[0][0]                  \n",
            "__________________________________________________________________________________________________\n",
            "res4m_out (Activation)          (None, None, None, 1 0           add_53[0][0]                     \n",
            "__________________________________________________________________________________________________\n",
            "res4n_branch2a (Conv2D)         (None, None, None, 2 262400      res4m_out[0][0]                  \n",
            "__________________________________________________________________________________________________\n",
            "bn4n_branch2a (BatchNorm)       (None, None, None, 2 1024        res4n_branch2a[0][0]             \n",
            "__________________________________________________________________________________________________\n",
            "activation_116 (Activation)     (None, None, None, 2 0           bn4n_branch2a[0][0]              \n",
            "__________________________________________________________________________________________________\n",
            "res4n_branch2b (Conv2D)         (None, None, None, 2 590080      activation_116[0][0]             \n",
            "__________________________________________________________________________________________________\n",
            "bn4n_branch2b (BatchNorm)       (None, None, None, 2 1024        res4n_branch2b[0][0]             \n",
            "__________________________________________________________________________________________________\n",
            "activation_117 (Activation)     (None, None, None, 2 0           bn4n_branch2b[0][0]              \n",
            "__________________________________________________________________________________________________\n",
            "res4n_branch2c (Conv2D)         (None, None, None, 1 263168      activation_117[0][0]             \n",
            "__________________________________________________________________________________________________\n",
            "bn4n_branch2c (BatchNorm)       (None, None, None, 1 4096        res4n_branch2c[0][0]             \n",
            "__________________________________________________________________________________________________\n",
            "add_54 (Add)                    (None, None, None, 1 0           bn4n_branch2c[0][0]              \n",
            "                                                                 res4m_out[0][0]                  \n",
            "__________________________________________________________________________________________________\n",
            "res4n_out (Activation)          (None, None, None, 1 0           add_54[0][0]                     \n",
            "__________________________________________________________________________________________________\n",
            "res4o_branch2a (Conv2D)         (None, None, None, 2 262400      res4n_out[0][0]                  \n",
            "__________________________________________________________________________________________________\n",
            "bn4o_branch2a (BatchNorm)       (None, None, None, 2 1024        res4o_branch2a[0][0]             \n",
            "__________________________________________________________________________________________________\n",
            "activation_118 (Activation)     (None, None, None, 2 0           bn4o_branch2a[0][0]              \n",
            "__________________________________________________________________________________________________\n",
            "res4o_branch2b (Conv2D)         (None, None, None, 2 590080      activation_118[0][0]             \n",
            "__________________________________________________________________________________________________\n",
            "bn4o_branch2b (BatchNorm)       (None, None, None, 2 1024        res4o_branch2b[0][0]             \n",
            "__________________________________________________________________________________________________\n",
            "activation_119 (Activation)     (None, None, None, 2 0           bn4o_branch2b[0][0]              \n",
            "__________________________________________________________________________________________________\n",
            "res4o_branch2c (Conv2D)         (None, None, None, 1 263168      activation_119[0][0]             \n",
            "__________________________________________________________________________________________________\n",
            "bn4o_branch2c (BatchNorm)       (None, None, None, 1 4096        res4o_branch2c[0][0]             \n",
            "__________________________________________________________________________________________________\n",
            "add_55 (Add)                    (None, None, None, 1 0           bn4o_branch2c[0][0]              \n",
            "                                                                 res4n_out[0][0]                  \n",
            "__________________________________________________________________________________________________\n",
            "res4o_out (Activation)          (None, None, None, 1 0           add_55[0][0]                     \n",
            "__________________________________________________________________________________________________\n",
            "res4p_branch2a (Conv2D)         (None, None, None, 2 262400      res4o_out[0][0]                  \n",
            "__________________________________________________________________________________________________\n",
            "bn4p_branch2a (BatchNorm)       (None, None, None, 2 1024        res4p_branch2a[0][0]             \n",
            "__________________________________________________________________________________________________\n",
            "activation_120 (Activation)     (None, None, None, 2 0           bn4p_branch2a[0][0]              \n",
            "__________________________________________________________________________________________________\n",
            "res4p_branch2b (Conv2D)         (None, None, None, 2 590080      activation_120[0][0]             \n",
            "__________________________________________________________________________________________________\n",
            "bn4p_branch2b (BatchNorm)       (None, None, None, 2 1024        res4p_branch2b[0][0]             \n",
            "__________________________________________________________________________________________________\n",
            "activation_121 (Activation)     (None, None, None, 2 0           bn4p_branch2b[0][0]              \n",
            "__________________________________________________________________________________________________\n",
            "res4p_branch2c (Conv2D)         (None, None, None, 1 263168      activation_121[0][0]             \n",
            "__________________________________________________________________________________________________\n",
            "bn4p_branch2c (BatchNorm)       (None, None, None, 1 4096        res4p_branch2c[0][0]             \n",
            "__________________________________________________________________________________________________\n",
            "add_56 (Add)                    (None, None, None, 1 0           bn4p_branch2c[0][0]              \n",
            "                                                                 res4o_out[0][0]                  \n",
            "__________________________________________________________________________________________________\n",
            "res4p_out (Activation)          (None, None, None, 1 0           add_56[0][0]                     \n",
            "__________________________________________________________________________________________________\n",
            "res4q_branch2a (Conv2D)         (None, None, None, 2 262400      res4p_out[0][0]                  \n",
            "__________________________________________________________________________________________________\n",
            "bn4q_branch2a (BatchNorm)       (None, None, None, 2 1024        res4q_branch2a[0][0]             \n",
            "__________________________________________________________________________________________________\n",
            "activation_122 (Activation)     (None, None, None, 2 0           bn4q_branch2a[0][0]              \n",
            "__________________________________________________________________________________________________\n",
            "res4q_branch2b (Conv2D)         (None, None, None, 2 590080      activation_122[0][0]             \n",
            "__________________________________________________________________________________________________\n",
            "bn4q_branch2b (BatchNorm)       (None, None, None, 2 1024        res4q_branch2b[0][0]             \n",
            "__________________________________________________________________________________________________\n",
            "activation_123 (Activation)     (None, None, None, 2 0           bn4q_branch2b[0][0]              \n",
            "__________________________________________________________________________________________________\n",
            "res4q_branch2c (Conv2D)         (None, None, None, 1 263168      activation_123[0][0]             \n",
            "__________________________________________________________________________________________________\n",
            "bn4q_branch2c (BatchNorm)       (None, None, None, 1 4096        res4q_branch2c[0][0]             \n",
            "__________________________________________________________________________________________________\n",
            "add_57 (Add)                    (None, None, None, 1 0           bn4q_branch2c[0][0]              \n",
            "                                                                 res4p_out[0][0]                  \n",
            "__________________________________________________________________________________________________\n",
            "res4q_out (Activation)          (None, None, None, 1 0           add_57[0][0]                     \n",
            "__________________________________________________________________________________________________\n",
            "res4r_branch2a (Conv2D)         (None, None, None, 2 262400      res4q_out[0][0]                  \n",
            "__________________________________________________________________________________________________\n",
            "bn4r_branch2a (BatchNorm)       (None, None, None, 2 1024        res4r_branch2a[0][0]             \n",
            "__________________________________________________________________________________________________\n",
            "activation_124 (Activation)     (None, None, None, 2 0           bn4r_branch2a[0][0]              \n",
            "__________________________________________________________________________________________________\n",
            "res4r_branch2b (Conv2D)         (None, None, None, 2 590080      activation_124[0][0]             \n",
            "__________________________________________________________________________________________________\n",
            "bn4r_branch2b (BatchNorm)       (None, None, None, 2 1024        res4r_branch2b[0][0]             \n",
            "__________________________________________________________________________________________________\n",
            "activation_125 (Activation)     (None, None, None, 2 0           bn4r_branch2b[0][0]              \n",
            "__________________________________________________________________________________________________\n",
            "res4r_branch2c (Conv2D)         (None, None, None, 1 263168      activation_125[0][0]             \n",
            "__________________________________________________________________________________________________\n",
            "bn4r_branch2c (BatchNorm)       (None, None, None, 1 4096        res4r_branch2c[0][0]             \n",
            "__________________________________________________________________________________________________\n",
            "add_58 (Add)                    (None, None, None, 1 0           bn4r_branch2c[0][0]              \n",
            "                                                                 res4q_out[0][0]                  \n",
            "__________________________________________________________________________________________________\n",
            "res4r_out (Activation)          (None, None, None, 1 0           add_58[0][0]                     \n",
            "__________________________________________________________________________________________________\n",
            "res4s_branch2a (Conv2D)         (None, None, None, 2 262400      res4r_out[0][0]                  \n",
            "__________________________________________________________________________________________________\n",
            "bn4s_branch2a (BatchNorm)       (None, None, None, 2 1024        res4s_branch2a[0][0]             \n",
            "__________________________________________________________________________________________________\n",
            "activation_126 (Activation)     (None, None, None, 2 0           bn4s_branch2a[0][0]              \n",
            "__________________________________________________________________________________________________\n",
            "res4s_branch2b (Conv2D)         (None, None, None, 2 590080      activation_126[0][0]             \n",
            "__________________________________________________________________________________________________\n",
            "bn4s_branch2b (BatchNorm)       (None, None, None, 2 1024        res4s_branch2b[0][0]             \n",
            "__________________________________________________________________________________________________\n",
            "activation_127 (Activation)     (None, None, None, 2 0           bn4s_branch2b[0][0]              \n",
            "__________________________________________________________________________________________________\n",
            "res4s_branch2c (Conv2D)         (None, None, None, 1 263168      activation_127[0][0]             \n",
            "__________________________________________________________________________________________________\n",
            "bn4s_branch2c (BatchNorm)       (None, None, None, 1 4096        res4s_branch2c[0][0]             \n",
            "__________________________________________________________________________________________________\n",
            "add_59 (Add)                    (None, None, None, 1 0           bn4s_branch2c[0][0]              \n",
            "                                                                 res4r_out[0][0]                  \n",
            "__________________________________________________________________________________________________\n",
            "res4s_out (Activation)          (None, None, None, 1 0           add_59[0][0]                     \n",
            "__________________________________________________________________________________________________\n",
            "res4t_branch2a (Conv2D)         (None, None, None, 2 262400      res4s_out[0][0]                  \n",
            "__________________________________________________________________________________________________\n",
            "bn4t_branch2a (BatchNorm)       (None, None, None, 2 1024        res4t_branch2a[0][0]             \n",
            "__________________________________________________________________________________________________\n",
            "activation_128 (Activation)     (None, None, None, 2 0           bn4t_branch2a[0][0]              \n",
            "__________________________________________________________________________________________________\n",
            "res4t_branch2b (Conv2D)         (None, None, None, 2 590080      activation_128[0][0]             \n",
            "__________________________________________________________________________________________________\n",
            "bn4t_branch2b (BatchNorm)       (None, None, None, 2 1024        res4t_branch2b[0][0]             \n",
            "__________________________________________________________________________________________________\n",
            "activation_129 (Activation)     (None, None, None, 2 0           bn4t_branch2b[0][0]              \n",
            "__________________________________________________________________________________________________\n",
            "res4t_branch2c (Conv2D)         (None, None, None, 1 263168      activation_129[0][0]             \n",
            "__________________________________________________________________________________________________\n",
            "bn4t_branch2c (BatchNorm)       (None, None, None, 1 4096        res4t_branch2c[0][0]             \n",
            "__________________________________________________________________________________________________\n",
            "add_60 (Add)                    (None, None, None, 1 0           bn4t_branch2c[0][0]              \n",
            "                                                                 res4s_out[0][0]                  \n",
            "__________________________________________________________________________________________________\n",
            "res4t_out (Activation)          (None, None, None, 1 0           add_60[0][0]                     \n",
            "__________________________________________________________________________________________________\n",
            "res4u_branch2a (Conv2D)         (None, None, None, 2 262400      res4t_out[0][0]                  \n",
            "__________________________________________________________________________________________________\n",
            "bn4u_branch2a (BatchNorm)       (None, None, None, 2 1024        res4u_branch2a[0][0]             \n",
            "__________________________________________________________________________________________________\n",
            "activation_130 (Activation)     (None, None, None, 2 0           bn4u_branch2a[0][0]              \n",
            "__________________________________________________________________________________________________\n",
            "res4u_branch2b (Conv2D)         (None, None, None, 2 590080      activation_130[0][0]             \n",
            "__________________________________________________________________________________________________\n",
            "bn4u_branch2b (BatchNorm)       (None, None, None, 2 1024        res4u_branch2b[0][0]             \n",
            "__________________________________________________________________________________________________\n",
            "activation_131 (Activation)     (None, None, None, 2 0           bn4u_branch2b[0][0]              \n",
            "__________________________________________________________________________________________________\n",
            "res4u_branch2c (Conv2D)         (None, None, None, 1 263168      activation_131[0][0]             \n",
            "__________________________________________________________________________________________________\n",
            "bn4u_branch2c (BatchNorm)       (None, None, None, 1 4096        res4u_branch2c[0][0]             \n",
            "__________________________________________________________________________________________________\n",
            "add_61 (Add)                    (None, None, None, 1 0           bn4u_branch2c[0][0]              \n",
            "                                                                 res4t_out[0][0]                  \n",
            "__________________________________________________________________________________________________\n",
            "res4u_out (Activation)          (None, None, None, 1 0           add_61[0][0]                     \n",
            "__________________________________________________________________________________________________\n",
            "res4v_branch2a (Conv2D)         (None, None, None, 2 262400      res4u_out[0][0]                  \n",
            "__________________________________________________________________________________________________\n",
            "bn4v_branch2a (BatchNorm)       (None, None, None, 2 1024        res4v_branch2a[0][0]             \n",
            "__________________________________________________________________________________________________\n",
            "activation_132 (Activation)     (None, None, None, 2 0           bn4v_branch2a[0][0]              \n",
            "__________________________________________________________________________________________________\n",
            "res4v_branch2b (Conv2D)         (None, None, None, 2 590080      activation_132[0][0]             \n",
            "__________________________________________________________________________________________________\n",
            "bn4v_branch2b (BatchNorm)       (None, None, None, 2 1024        res4v_branch2b[0][0]             \n",
            "__________________________________________________________________________________________________\n",
            "activation_133 (Activation)     (None, None, None, 2 0           bn4v_branch2b[0][0]              \n",
            "__________________________________________________________________________________________________\n",
            "res4v_branch2c (Conv2D)         (None, None, None, 1 263168      activation_133[0][0]             \n",
            "__________________________________________________________________________________________________\n",
            "bn4v_branch2c (BatchNorm)       (None, None, None, 1 4096        res4v_branch2c[0][0]             \n",
            "__________________________________________________________________________________________________\n",
            "add_62 (Add)                    (None, None, None, 1 0           bn4v_branch2c[0][0]              \n",
            "                                                                 res4u_out[0][0]                  \n",
            "__________________________________________________________________________________________________\n",
            "res4v_out (Activation)          (None, None, None, 1 0           add_62[0][0]                     \n",
            "__________________________________________________________________________________________________\n",
            "res4w_branch2a (Conv2D)         (None, None, None, 2 262400      res4v_out[0][0]                  \n",
            "__________________________________________________________________________________________________\n",
            "bn4w_branch2a (BatchNorm)       (None, None, None, 2 1024        res4w_branch2a[0][0]             \n",
            "__________________________________________________________________________________________________\n",
            "activation_134 (Activation)     (None, None, None, 2 0           bn4w_branch2a[0][0]              \n",
            "__________________________________________________________________________________________________\n",
            "res4w_branch2b (Conv2D)         (None, None, None, 2 590080      activation_134[0][0]             \n",
            "__________________________________________________________________________________________________\n",
            "bn4w_branch2b (BatchNorm)       (None, None, None, 2 1024        res4w_branch2b[0][0]             \n",
            "__________________________________________________________________________________________________\n",
            "activation_135 (Activation)     (None, None, None, 2 0           bn4w_branch2b[0][0]              \n",
            "__________________________________________________________________________________________________\n",
            "res4w_branch2c (Conv2D)         (None, None, None, 1 263168      activation_135[0][0]             \n",
            "__________________________________________________________________________________________________\n",
            "bn4w_branch2c (BatchNorm)       (None, None, None, 1 4096        res4w_branch2c[0][0]             \n",
            "__________________________________________________________________________________________________\n",
            "add_63 (Add)                    (None, None, None, 1 0           bn4w_branch2c[0][0]              \n",
            "                                                                 res4v_out[0][0]                  \n",
            "__________________________________________________________________________________________________\n",
            "res4w_out (Activation)          (None, None, None, 1 0           add_63[0][0]                     \n",
            "__________________________________________________________________________________________________\n",
            "res5a_branch2a (Conv2D)         (None, None, None, 5 524800      res4w_out[0][0]                  \n",
            "__________________________________________________________________________________________________\n",
            "bn5a_branch2a (BatchNorm)       (None, None, None, 5 2048        res5a_branch2a[0][0]             \n",
            "__________________________________________________________________________________________________\n",
            "activation_136 (Activation)     (None, None, None, 5 0           bn5a_branch2a[0][0]              \n",
            "__________________________________________________________________________________________________\n",
            "res5a_branch2b (Conv2D)         (None, None, None, 5 2359808     activation_136[0][0]             \n",
            "__________________________________________________________________________________________________\n",
            "bn5a_branch2b (BatchNorm)       (None, None, None, 5 2048        res5a_branch2b[0][0]             \n",
            "__________________________________________________________________________________________________\n",
            "activation_137 (Activation)     (None, None, None, 5 0           bn5a_branch2b[0][0]              \n",
            "__________________________________________________________________________________________________\n",
            "res5a_branch2c (Conv2D)         (None, None, None, 2 1050624     activation_137[0][0]             \n",
            "__________________________________________________________________________________________________\n",
            "res5a_branch1 (Conv2D)          (None, None, None, 2 2099200     res4w_out[0][0]                  \n",
            "__________________________________________________________________________________________________\n",
            "bn5a_branch2c (BatchNorm)       (None, None, None, 2 8192        res5a_branch2c[0][0]             \n",
            "__________________________________________________________________________________________________\n",
            "bn5a_branch1 (BatchNorm)        (None, None, None, 2 8192        res5a_branch1[0][0]              \n",
            "__________________________________________________________________________________________________\n",
            "add_64 (Add)                    (None, None, None, 2 0           bn5a_branch2c[0][0]              \n",
            "                                                                 bn5a_branch1[0][0]               \n",
            "__________________________________________________________________________________________________\n",
            "res5a_out (Activation)          (None, None, None, 2 0           add_64[0][0]                     \n",
            "__________________________________________________________________________________________________\n",
            "res5b_branch2a (Conv2D)         (None, None, None, 5 1049088     res5a_out[0][0]                  \n",
            "__________________________________________________________________________________________________\n",
            "bn5b_branch2a (BatchNorm)       (None, None, None, 5 2048        res5b_branch2a[0][0]             \n",
            "__________________________________________________________________________________________________\n",
            "activation_138 (Activation)     (None, None, None, 5 0           bn5b_branch2a[0][0]              \n",
            "__________________________________________________________________________________________________\n",
            "res5b_branch2b (Conv2D)         (None, None, None, 5 2359808     activation_138[0][0]             \n",
            "__________________________________________________________________________________________________\n",
            "bn5b_branch2b (BatchNorm)       (None, None, None, 5 2048        res5b_branch2b[0][0]             \n",
            "__________________________________________________________________________________________________\n",
            "activation_139 (Activation)     (None, None, None, 5 0           bn5b_branch2b[0][0]              \n",
            "__________________________________________________________________________________________________\n",
            "res5b_branch2c (Conv2D)         (None, None, None, 2 1050624     activation_139[0][0]             \n",
            "__________________________________________________________________________________________________\n",
            "bn5b_branch2c (BatchNorm)       (None, None, None, 2 8192        res5b_branch2c[0][0]             \n",
            "__________________________________________________________________________________________________\n",
            "add_65 (Add)                    (None, None, None, 2 0           bn5b_branch2c[0][0]              \n",
            "                                                                 res5a_out[0][0]                  \n",
            "__________________________________________________________________________________________________\n",
            "res5b_out (Activation)          (None, None, None, 2 0           add_65[0][0]                     \n",
            "__________________________________________________________________________________________________\n",
            "res5c_branch2a (Conv2D)         (None, None, None, 5 1049088     res5b_out[0][0]                  \n",
            "__________________________________________________________________________________________________\n",
            "bn5c_branch2a (BatchNorm)       (None, None, None, 5 2048        res5c_branch2a[0][0]             \n",
            "__________________________________________________________________________________________________\n",
            "activation_140 (Activation)     (None, None, None, 5 0           bn5c_branch2a[0][0]              \n",
            "__________________________________________________________________________________________________\n",
            "res5c_branch2b (Conv2D)         (None, None, None, 5 2359808     activation_140[0][0]             \n",
            "__________________________________________________________________________________________________\n",
            "bn5c_branch2b (BatchNorm)       (None, None, None, 5 2048        res5c_branch2b[0][0]             \n",
            "__________________________________________________________________________________________________\n",
            "activation_141 (Activation)     (None, None, None, 5 0           bn5c_branch2b[0][0]              \n",
            "__________________________________________________________________________________________________\n",
            "res5c_branch2c (Conv2D)         (None, None, None, 2 1050624     activation_141[0][0]             \n",
            "__________________________________________________________________________________________________\n",
            "bn5c_branch2c (BatchNorm)       (None, None, None, 2 8192        res5c_branch2c[0][0]             \n",
            "__________________________________________________________________________________________________\n",
            "add_66 (Add)                    (None, None, None, 2 0           bn5c_branch2c[0][0]              \n",
            "                                                                 res5b_out[0][0]                  \n",
            "__________________________________________________________________________________________________\n",
            "res5c_out (Activation)          (None, None, None, 2 0           add_66[0][0]                     \n",
            "__________________________________________________________________________________________________\n",
            "fpn_c5p5 (Conv2D)               (None, None, None, 2 524544      res5c_out[0][0]                  \n",
            "__________________________________________________________________________________________________\n",
            "fpn_p5upsampled (UpSampling2D)  (None, None, None, 2 0           fpn_c5p5[0][0]                   \n",
            "__________________________________________________________________________________________________\n",
            "fpn_c4p4 (Conv2D)               (None, None, None, 2 262400      res4w_out[0][0]                  \n",
            "__________________________________________________________________________________________________\n",
            "fpn_p4add (Add)                 (None, None, None, 2 0           fpn_p5upsampled[0][0]            \n",
            "                                                                 fpn_c4p4[0][0]                   \n",
            "__________________________________________________________________________________________________\n",
            "fpn_p4upsampled (UpSampling2D)  (None, None, None, 2 0           fpn_p4add[0][0]                  \n",
            "__________________________________________________________________________________________________\n",
            "fpn_c3p3 (Conv2D)               (None, None, None, 2 131328      res3d_out[0][0]                  \n",
            "__________________________________________________________________________________________________\n",
            "fpn_p3add (Add)                 (None, None, None, 2 0           fpn_p4upsampled[0][0]            \n",
            "                                                                 fpn_c3p3[0][0]                   \n",
            "__________________________________________________________________________________________________\n",
            "fpn_p3upsampled (UpSampling2D)  (None, None, None, 2 0           fpn_p3add[0][0]                  \n",
            "__________________________________________________________________________________________________\n",
            "fpn_c2p2 (Conv2D)               (None, None, None, 2 65792       res2c_out[0][0]                  \n",
            "__________________________________________________________________________________________________\n",
            "fpn_p2add (Add)                 (None, None, None, 2 0           fpn_p3upsampled[0][0]            \n",
            "                                                                 fpn_c2p2[0][0]                   \n",
            "__________________________________________________________________________________________________\n",
            "fpn_p5 (Conv2D)                 (None, None, None, 2 590080      fpn_c5p5[0][0]                   \n",
            "__________________________________________________________________________________________________\n",
            "fpn_p2 (Conv2D)                 (None, None, None, 2 590080      fpn_p2add[0][0]                  \n",
            "__________________________________________________________________________________________________\n",
            "fpn_p3 (Conv2D)                 (None, None, None, 2 590080      fpn_p3add[0][0]                  \n",
            "__________________________________________________________________________________________________\n",
            "fpn_p4 (Conv2D)                 (None, None, None, 2 590080      fpn_p4add[0][0]                  \n",
            "__________________________________________________________________________________________________\n",
            "fpn_p6 (MaxPooling2D)           (None, None, None, 2 0           fpn_p5[0][0]                     \n",
            "__________________________________________________________________________________________________\n",
            "rpn_model (Model)               [(None, None, 2), (N 1189394     fpn_p2[0][0]                     \n",
            "                                                                 fpn_p3[0][0]                     \n",
            "                                                                 fpn_p4[0][0]                     \n",
            "                                                                 fpn_p5[0][0]                     \n",
            "                                                                 fpn_p6[0][0]                     \n",
            "__________________________________________________________________________________________________\n",
            "rpn_class (Concatenate)         (None, None, 2)      0           rpn_model[1][1]                  \n",
            "                                                                 rpn_model[2][1]                  \n",
            "                                                                 rpn_model[3][1]                  \n",
            "                                                                 rpn_model[4][1]                  \n",
            "                                                                 rpn_model[5][1]                  \n",
            "__________________________________________________________________________________________________\n",
            "rpn_bbox (Concatenate)          (None, None, 4)      0           rpn_model[1][2]                  \n",
            "                                                                 rpn_model[2][2]                  \n",
            "                                                                 rpn_model[3][2]                  \n",
            "                                                                 rpn_model[4][2]                  \n",
            "                                                                 rpn_model[5][2]                  \n",
            "__________________________________________________________________________________________________\n",
            "anchors (Lambda)                (1, 261888, 4)       0           input_image[0][0]                \n",
            "__________________________________________________________________________________________________\n",
            "input_gt_boxes (InputLayer)     (None, None, 4)      0                                            \n",
            "__________________________________________________________________________________________________\n",
            "ROI (ProposalLayer)             (None, 2000, 4)      0           rpn_class[0][0]                  \n",
            "                                                                 rpn_bbox[0][0]                   \n",
            "                                                                 anchors[0][0]                    \n",
            "__________________________________________________________________________________________________\n",
            "input_gt_class_ids (InputLayer) (None, None)         0                                            \n",
            "__________________________________________________________________________________________________\n",
            "lambda_5 (Lambda)               (None, None, 4)      0           input_gt_boxes[0][0]             \n",
            "__________________________________________________________________________________________________\n",
            "input_gt_masks (InputLayer)     (None, 56, 56, None) 0                                            \n",
            "__________________________________________________________________________________________________\n",
            "proposal_targets (DetectionTarg [(None, 200, 4), (No 0           ROI[0][0]                        \n",
            "                                                                 input_gt_class_ids[0][0]         \n",
            "                                                                 lambda_5[0][0]                   \n",
            "                                                                 input_gt_masks[0][0]             \n",
            "__________________________________________________________________________________________________\n",
            "input_image_meta (InputLayer)   (None, 15)           0                                            \n",
            "__________________________________________________________________________________________________\n",
            "roi_align_mask (PyramidROIAlign (None, 200, 14, 14,  0           proposal_targets[0][0]           \n",
            "                                                                 input_image_meta[0][0]           \n",
            "                                                                 fpn_p2[0][0]                     \n",
            "                                                                 fpn_p3[0][0]                     \n",
            "                                                                 fpn_p4[0][0]                     \n",
            "                                                                 fpn_p5[0][0]                     \n",
            "__________________________________________________________________________________________________\n",
            "mrcnn_mask_conv1 (TimeDistribut (None, 200, 14, 14,  590080      roi_align_mask[0][0]             \n",
            "__________________________________________________________________________________________________\n",
            "mrcnn_mask_bn1 (TimeDistributed (None, 200, 14, 14,  1024        mrcnn_mask_conv1[0][0]           \n",
            "__________________________________________________________________________________________________\n",
            "activation_145 (Activation)     (None, 200, 14, 14,  0           mrcnn_mask_bn1[0][0]             \n",
            "__________________________________________________________________________________________________\n",
            "mrcnn_mask_conv2 (TimeDistribut (None, 200, 14, 14,  590080      activation_145[0][0]             \n",
            "__________________________________________________________________________________________________\n",
            "roi_align_classifier (PyramidRO (None, 200, 7, 7, 25 0           proposal_targets[0][0]           \n",
            "                                                                 input_image_meta[0][0]           \n",
            "                                                                 fpn_p2[0][0]                     \n",
            "                                                                 fpn_p3[0][0]                     \n",
            "                                                                 fpn_p4[0][0]                     \n",
            "                                                                 fpn_p5[0][0]                     \n",
            "__________________________________________________________________________________________________\n",
            "mrcnn_mask_bn2 (TimeDistributed (None, 200, 14, 14,  1024        mrcnn_mask_conv2[0][0]           \n",
            "__________________________________________________________________________________________________\n",
            "mrcnn_class_conv1 (TimeDistribu (None, 200, 1, 1, 10 12846080    roi_align_classifier[0][0]       \n",
            "__________________________________________________________________________________________________\n",
            "activation_146 (Activation)     (None, 200, 14, 14,  0           mrcnn_mask_bn2[0][0]             \n",
            "__________________________________________________________________________________________________\n",
            "mrcnn_class_bn1 (TimeDistribute (None, 200, 1, 1, 10 4096        mrcnn_class_conv1[0][0]          \n",
            "__________________________________________________________________________________________________\n",
            "mrcnn_mask_conv3 (TimeDistribut (None, 200, 14, 14,  590080      activation_146[0][0]             \n",
            "__________________________________________________________________________________________________\n",
            "activation_142 (Activation)     (None, 200, 1, 1, 10 0           mrcnn_class_bn1[0][0]            \n",
            "__________________________________________________________________________________________________\n",
            "mrcnn_mask_bn3 (TimeDistributed (None, 200, 14, 14,  1024        mrcnn_mask_conv3[0][0]           \n",
            "__________________________________________________________________________________________________\n",
            "mrcnn_class_conv2 (TimeDistribu (None, 200, 1, 1, 10 1049600     activation_142[0][0]             \n",
            "__________________________________________________________________________________________________\n",
            "activation_147 (Activation)     (None, 200, 14, 14,  0           mrcnn_mask_bn3[0][0]             \n",
            "__________________________________________________________________________________________________\n",
            "mrcnn_class_bn2 (TimeDistribute (None, 200, 1, 1, 10 4096        mrcnn_class_conv2[0][0]          \n",
            "__________________________________________________________________________________________________\n",
            "mrcnn_mask_conv4 (TimeDistribut (None, 200, 14, 14,  590080      activation_147[0][0]             \n",
            "__________________________________________________________________________________________________\n",
            "activation_143 (Activation)     (None, 200, 1, 1, 10 0           mrcnn_class_bn2[0][0]            \n",
            "__________________________________________________________________________________________________\n",
            "mrcnn_mask_bn4 (TimeDistributed (None, 200, 14, 14,  1024        mrcnn_mask_conv4[0][0]           \n",
            "__________________________________________________________________________________________________\n",
            "pool_squeeze (Lambda)           (None, 200, 1024)    0           activation_143[0][0]             \n",
            "__________________________________________________________________________________________________\n",
            "activation_148 (Activation)     (None, 200, 14, 14,  0           mrcnn_mask_bn4[0][0]             \n",
            "__________________________________________________________________________________________________\n",
            "mrcnn_bbox_fc (TimeDistributed) (None, 200, 12)      12300       pool_squeeze[0][0]               \n",
            "__________________________________________________________________________________________________\n",
            "mrcnn_mask_deconv (TimeDistribu (None, 200, 28, 28,  262400      activation_148[0][0]             \n",
            "__________________________________________________________________________________________________\n",
            "rpn_class_logits (Concatenate)  (None, None, 2)      0           rpn_model[1][0]                  \n",
            "                                                                 rpn_model[2][0]                  \n",
            "                                                                 rpn_model[3][0]                  \n",
            "                                                                 rpn_model[4][0]                  \n",
            "                                                                 rpn_model[5][0]                  \n",
            "__________________________________________________________________________________________________\n",
            "mrcnn_class_logits (TimeDistrib (None, 200, 3)       3075        pool_squeeze[0][0]               \n",
            "__________________________________________________________________________________________________\n",
            "mrcnn_bbox (Reshape)            (None, 200, 3, 4)    0           mrcnn_bbox_fc[0][0]              \n",
            "__________________________________________________________________________________________________\n",
            "mrcnn_mask (TimeDistributed)    (None, 200, 28, 28,  771         mrcnn_mask_deconv[0][0]          \n",
            "__________________________________________________________________________________________________\n",
            "input_rpn_match (InputLayer)    (None, None, 1)      0                                            \n",
            "__________________________________________________________________________________________________\n",
            "input_rpn_bbox (InputLayer)     (None, None, 4)      0                                            \n",
            "__________________________________________________________________________________________________\n",
            "lambda_8 (Lambda)               (None, 3)            0           input_image_meta[0][0]           \n",
            "__________________________________________________________________________________________________\n",
            "mrcnn_class (TimeDistributed)   (None, 200, 3)       0           mrcnn_class_logits[0][0]         \n",
            "__________________________________________________________________________________________________\n",
            "output_rois (Lambda)            (None, 200, 4)       0           proposal_targets[0][0]           \n",
            "__________________________________________________________________________________________________\n",
            "rpn_class_loss (Lambda)         ()                   0           input_rpn_match[0][0]            \n",
            "                                                                 rpn_class_logits[0][0]           \n",
            "__________________________________________________________________________________________________\n",
            "rpn_bbox_loss (Lambda)          ()                   0           input_rpn_bbox[0][0]             \n",
            "                                                                 input_rpn_match[0][0]            \n",
            "                                                                 rpn_bbox[0][0]                   \n",
            "__________________________________________________________________________________________________\n",
            "mrcnn_class_loss (Lambda)       ()                   0           proposal_targets[0][1]           \n",
            "                                                                 mrcnn_class_logits[0][0]         \n",
            "                                                                 lambda_8[0][0]                   \n",
            "__________________________________________________________________________________________________\n",
            "mrcnn_bbox_loss (Lambda)        ()                   0           proposal_targets[0][2]           \n",
            "                                                                 proposal_targets[0][1]           \n",
            "                                                                 mrcnn_bbox[0][0]                 \n",
            "__________________________________________________________________________________________________\n",
            "mrcnn_mask_loss (Lambda)        ()                   0           proposal_targets[0][3]           \n",
            "                                                                 proposal_targets[0][1]           \n",
            "                                                                 mrcnn_mask[0][0]                 \n",
            "==================================================================================================\n",
            "Total params: 63,738,788\n",
            "Trainable params: 63,627,300\n",
            "Non-trainable params: 111,488\n",
            "__________________________________________________________________________________________________\n"
          ]
        }
      ],
      "source": [
        "model = mrcnn.model.MaskRCNN(mode='training', \n",
        "                             model_dir='./log', \n",
        "                             config=object_config)\n",
        "model.keras_model.summary()"
      ]
    },
    {
      "cell_type": "code",
      "execution_count": null,
      "metadata": {
        "id": "7rQ2LmLU7Nzu",
        "colab": {
          "base_uri": "https://localhost:8080/"
        },
        "outputId": "714127be-2b0b-4d7e-b621-26bd565b2900"
      },
      "outputs": [
        {
          "output_type": "execute_result",
          "data": {
            "text/plain": [
              "('mask_rcnn_coco.h5', <http.client.HTTPMessage at 0x7fb33e446d30>)"
            ]
          },
          "metadata": {},
          "execution_count": 15
        }
      ],
      "source": [
        "import urllib.request\n",
        "\n",
        "urllib.request.urlretrieve(\"https://github.com/matterport/Mask_RCNN/releases/download/v1.0/mask_rcnn_coco.h5\", \"mask_rcnn_coco.h5\")"
      ]
    },
    {
      "cell_type": "code",
      "execution_count": null,
      "metadata": {
        "id": "weZd4M7S7N2L",
        "colab": {
          "base_uri": "https://localhost:8080/"
        },
        "outputId": "f659e422-9a47-4a15-81f2-4cd033e1d5fe"
      },
      "outputs": [
        {
          "output_type": "stream",
          "name": "stdout",
          "text": [
            "Weights loaded!\n"
          ]
        }
      ],
      "source": [
        "model.load_weights(filepath='mask_rcnn_coco.h5', \n",
        "                   by_name=True, \n",
        "                   exclude=[\"mrcnn_class_logits\", \"mrcnn_bbox_fc\",  \"mrcnn_bbox\", \"mrcnn_mask\"])\n",
        "print(\"Weights loaded!\")"
      ]
    },
    {
      "cell_type": "code",
      "execution_count": null,
      "metadata": {
        "id": "mCPO7a2b1MTm",
        "colab": {
          "base_uri": "https://localhost:8080/"
        },
        "outputId": "7200ac9e-f9e9-4dc3-94c0-f8c54a9d47a2"
      },
      "outputs": [
        {
          "output_type": "stream",
          "name": "stdout",
          "text": [
            "Looking in indexes: https://pypi.org/simple, https://us-python.pkg.dev/colab-wheels/public/simple/\n",
            "Requirement already satisfied: numpy in /usr/local/lib/python3.8/dist-packages (1.21.6)\n"
          ]
        }
      ],
      "source": [
        "from PIL import Image, ImageDraw, ImageFont\n",
        "!pip install numpy\n",
        "import numpy as np"
      ]
    },
    {
      "cell_type": "markdown",
      "metadata": {
        "id": "vwVI5tfzAvs-"
      },
      "source": [
        "**TRAIN**"
      ]
    },
    {
      "cell_type": "code",
      "execution_count": null,
      "metadata": {
        "id": "URBLZr_97Ybc",
        "colab": {
          "base_uri": "https://localhost:8080/"
        },
        "outputId": "c55cec15-c870-422d-a6d4-b9819b5b5a8c"
      },
      "outputs": [
        {
          "metadata": {
            "tags": null
          },
          "name": "stdout",
          "output_type": "stream",
          "text": [
            "\n",
            "Starting at epoch 0. LR=0.001\n",
            "\n",
            "Checkpoint Path: //logdir//train/mask_rcnn_object_{epoch:04d}.h5\n",
            "Selecting layers to train\n",
            "fpn_c5p5               (Conv2D)\n",
            "fpn_c4p4               (Conv2D)\n",
            "fpn_c3p3               (Conv2D)\n",
            "fpn_c2p2               (Conv2D)\n",
            "fpn_p5                 (Conv2D)\n",
            "fpn_p2                 (Conv2D)\n",
            "fpn_p3                 (Conv2D)\n",
            "fpn_p4                 (Conv2D)\n",
            "In model:  rpn_model\n",
            "    rpn_conv_shared        (Conv2D)\n",
            "    rpn_class_raw          (Conv2D)\n",
            "    rpn_bbox_pred          (Conv2D)\n",
            "mrcnn_mask_conv1       (TimeDistributed)\n",
            "mrcnn_mask_bn1         (TimeDistributed)\n",
            "mrcnn_mask_conv2       (TimeDistributed)\n",
            "mrcnn_mask_bn2         (TimeDistributed)\n",
            "mrcnn_class_conv1      (TimeDistributed)\n",
            "mrcnn_class_bn1        (TimeDistributed)\n",
            "mrcnn_mask_conv3       (TimeDistributed)\n",
            "mrcnn_mask_bn3         (TimeDistributed)\n",
            "mrcnn_class_conv2      (TimeDistributed)\n",
            "mrcnn_class_bn2        (TimeDistributed)\n",
            "mrcnn_mask_conv4       (TimeDistributed)\n",
            "mrcnn_mask_bn4         (TimeDistributed)\n",
            "mrcnn_bbox_fc          (TimeDistributed)\n",
            "mrcnn_mask_deconv      (TimeDistributed)\n",
            "mrcnn_class_logits     (TimeDistributed)\n",
            "mrcnn_mask             (TimeDistributed)\n"
          ]
        },
        {
          "metadata": {
            "tags": null
          },
          "name": "stderr",
          "output_type": "stream",
          "text": [
            "/usr/local/lib/python3.8/dist-packages/tensorflow/python/framework/indexed_slices.py:433: UserWarning: Converting sparse IndexedSlices to a dense Tensor of unknown shape. This may consume a large amount of memory.\n",
            "  warnings.warn(\n",
            "/usr/local/lib/python3.8/dist-packages/keras/engine/training_generator.py:48: UserWarning: Using a generator with `use_multiprocessing=True` and multiple workers may duplicate your data. Please consider using the `keras.utils.Sequence class.\n",
            "  warnings.warn(\n",
            "WARNING:tensorflow:Model failed to serialize as JSON. Ignoring... cannot pickle '_thread.RLock' object\n"
          ]
        },
        {
          "output_type": "stream",
          "name": "stdout",
          "text": [
            "Epoch 1/5\n",
            "100/100 [==============================] - 1184s 12s/step - loss: 1.5226 - val_loss: 2.8897\n",
            "Epoch 2/5\n",
            "100/100 [==============================] - 1152s 12s/step - loss: 1.2302 - val_loss: 1.8076\n",
            "Epoch 3/5\n",
            "100/100 [==============================] - 1157s 12s/step - loss: 1.6497 - val_loss: 1.9995\n",
            "Epoch 4/5\n",
            "100/100 [==============================] - 1134s 11s/step - loss: 1.3972 - val_loss: 1.4284\n",
            "Epoch 5/5\n",
            "100/100 [==============================] - 1149s 11s/step - loss: 2.3786 - val_loss: 2.0516\n"
          ]
        }
      ],
      "source": [
        "model.train(train_dataset=train_dataset, \n",
        "            val_dataset=validation_dataset, \n",
        "            learning_rate=object_config.LEARNING_RATE, \n",
        "            epochs=5, \n",
        "            layers='heads')"
      ]
    },
    {
      "cell_type": "markdown",
      "metadata": {
        "id": "9BUFSZe9A1x9"
      },
      "source": [
        "**SAVE WEIGHTS**"
      ]
    },
    {
      "cell_type": "code",
      "execution_count": null,
      "metadata": {
        "id": "xRiFVbj57YeE"
      },
      "outputs": [],
      "source": [
        "model_path = 'object_mask_rcnn_trained.h5'\n",
        "model.keras_model.save_weights(model_path)"
      ]
    },
    {
      "cell_type": "markdown",
      "metadata": {
        "id": "ID88DDgsA6f-"
      },
      "source": [
        "**CODE FOR TRAINING**"
      ]
    },
    {
      "cell_type": "markdown",
      "metadata": {
        "id": "mpgRqA5q7fMp"
      },
      "source": [
        "**PREDICTIONS**"
      ]
    },
    {
      "cell_type": "code",
      "execution_count": null,
      "metadata": {
        "id": "xu3Pi1mO7Yjk",
        "colab": {
          "base_uri": "https://localhost:8080/",
          "height": 901
        },
        "outputId": "48daa163-9966-4ae5-c24b-7a71fcd103af"
      },
      "outputs": [
        {
          "output_type": "display_data",
          "data": {
            "text/plain": [
              "<Figure size 1152x1152 with 1 Axes>"
            ],
            "image/png": "[encoded data removed]"
          },
          "metadata": {
            "needs_background": "light"
          }
        }
      ],
      "source": [
        "import mrcnn\n",
        "import mrcnn.config\n",
        "import mrcnn.model\n",
        "import mrcnn.visualize\n",
        "import cv2\n",
        "import os\n",
        "\n",
        "CLASS_NAMES = ['BG', 'line', 'circle']\n",
        "\n",
        "class SimpleConfig(mrcnn.config.Config):\n",
        "    NAME = \"coco_inference\"\n",
        "    \n",
        "    GPU_COUNT = 1\n",
        "    IMAGES_PER_GPU = 1\n",
        "\n",
        "    NUM_CLASSES = len(CLASS_NAMES)\n",
        "\n",
        "model = mrcnn.model.MaskRCNN(mode=\"inference\", \n",
        "                             config=SimpleConfig(),\n",
        "                             model_dir=os.getcwd())\n",
        "\n",
        "model.load_weights(filepath=\"object_mask_rcnn_trained.h5\", \n",
        "                   by_name=True)\n",
        "\n",
        "image = cv2.imread(\"./object-transfer-learning/xwdw.PNG\")\n",
        "image = cv2.cvtColor(image, cv2.COLOR_BGR2RGB)\n",
        "\n",
        "r = model.detect([image], verbose=0)\n",
        "\n",
        "r = r[0]\n",
        "\n",
        "mrcnn.visualize.display_instances(image=image, \n",
        "                                  boxes=r['rois'], \n",
        "                                  masks=r['masks'], \n",
        "                                  class_ids=r['class_ids'], \n",
        "                                  class_names=CLASS_NAMES, \n",
        "                                  scores=r['scores'])"
      ]
    },
    {
      "cell_type": "code",
      "source": [
        "import random\n",
        "import mrcnn\n",
        "import mrcnn.config\n",
        "import mrcnn.model\n",
        "from mrcnn import visualize\n",
        "\n",
        "def get_ax(rows=1, cols=1, size=8):\n",
        "    \"\"\"Return a Matplotlib Axes array to be used in\n",
        "    all visualizations in the notebook. Provide a\n",
        "    central point to control graph sizes.\n",
        "\n",
        "    Change the default size attribute to control the size\n",
        "    of rendered images\n",
        "    \"\"\"\n",
        "    _, ax = plt.subplots(rows, cols, figsize=(size * cols, size * rows))\n",
        "    return ax\n",
        "\n",
        "\n",
        "# Validation\n",
        "validation_dataset = ObjectDataset()\n",
        "validation_dataset.load_dataset(annotation_json='./object-transfer-learning/object/annots/annotations_train.json', images_dir='./object-transfer-learning/object/train', dataset_type=\"train\")\n",
        "validation_dataset.prepare()\n",
        "\n",
        "\n",
        "print('Validation: %d' % len(validation_dataset.image_ids))\n",
        "\n",
        "image_id = random.choice(validation_dataset.image_ids)\n",
        "\n",
        "\n",
        "\n",
        "model = mrcnn.model.MaskRCNN(mode=\"inference\", \n",
        "                             config=SimpleConfig(),\n",
        "                             model_dir=os.getcwd())\n",
        "for i in range (19,53):\n",
        "  print(\"i----------------------------- %d\",i)\n",
        "  original_image, image_meta, gt_class_id, gt_bbox, gt_mask = modellib.load_image_gt(validation_dataset,SimpleConfig(),i, use_mini_mask=False)\n",
        "\n",
        "# print(\"original_image\", original_image)\n",
        "# print(\"image_meta\", image_meta)\n",
        "# print(\"gt_class_id\", gt_class_id)\n",
        "# print(\"gt_bbox\", gt_bbox)\n",
        "# print(\"gt_mask\", gt_mask)\n",
        "\n",
        "  results = model.detect([original_image], verbose=1)\n",
        "  r = results[0]\n",
        "\n",
        "  visualize.display_instances(original_image, gt_bbox, gt_mask, gt_class_id,\n",
        "                                validation_dataset.class_names, figsize=(8, 8))\n",
        "\n"
      ],
      "metadata": {
        "colab": {
          "base_uri": "https://localhost:8080/",
          "height": 1000
        },
        "id": "JyYU_wv7BA77",
        "outputId": "d1b49bff-9e7c-4d13-cc00-1decfb04e758"
      },
      "execution_count": null,
      "outputs": [
        {
          "output_type": "stream",
          "name": "stdout",
          "text": [
            "Annotation json path:  ./object-transfer-learning/object/annots/annotations_train.json\n",
            "Validation: 52\n",
            "i----------------------------- %d 19\n",
            "Processing 1 images\n",
            "image                    shape: (1024, 1024, 3)       min:    0.00000  max:  253.00000  uint8\n",
            "molded_images            shape: (1, 1024, 1024, 3)    min: -123.70000  max:  147.10000  float64\n",
            "image_metas              shape: (1, 15)               min:    0.00000  max: 1024.00000  int64\n",
            "anchors                  shape: (1, 261888, 4)        min:   -0.35390  max:    1.29134  float32\n"
          ]
        },
        {
          "output_type": "display_data",
          "data": {
            "text/plain": [
              "<Figure size 576x576 with 1 Axes>"
            ],
            "image/png": "[encoded data removed]"
          },
          "metadata": {
            "needs_background": "light"
          }
        },
        {
          "output_type": "stream",
          "name": "stdout",
          "text": [
            "i----------------------------- %d 20\n",
            "Processing 1 images\n",
            "image                    shape: (1024, 1024, 3)       min:    0.00000  max:  253.00000  uint8\n",
            "molded_images            shape: (1, 1024, 1024, 3)    min: -123.70000  max:  148.10000  float64\n",
            "image_metas              shape: (1, 15)               min:    0.00000  max: 1024.00000  int64\n",
            "anchors                  shape: (1, 261888, 4)        min:   -0.35390  max:    1.29134  float32\n"
          ]
        },
        {
          "output_type": "display_data",
          "data": {
            "text/plain": [
              "<Figure size 576x576 with 1 Axes>"
            ],
            "image/png": "[encoded data removed]"
          },
          "metadata": {
            "needs_background": "light"
          }
        },
        {
          "output_type": "stream",
          "name": "stdout",
          "text": [
            "i----------------------------- %d 21\n",
            "Processing 1 images\n",
            "image                    shape: (1024, 1024, 3)       min:    0.00000  max:  254.00000  uint8\n",
            "molded_images            shape: (1, 1024, 1024, 3)    min: -123.70000  max:  150.10000  float64\n",
            "image_metas              shape: (1, 15)               min:    0.00000  max: 1024.00000  int64\n",
            "anchors                  shape: (1, 261888, 4)        min:   -0.35390  max:    1.29134  float32\n"
          ]
        },
        {
          "output_type": "display_data",
          "data": {
            "text/plain": [
              "<Figure size 576x576 with 1 Axes>"
            ],
            "image/png": "[encoded data removed]"
          },
          "metadata": {
            "needs_background": "light"
          }
        },
        {
          "output_type": "stream",
          "name": "stdout",
          "text": [
            "i----------------------------- %d 22\n",
            "Processing 1 images\n",
            "image                    shape: (1024, 1024, 3)       min:    0.00000  max:  253.00000  uint8\n",
            "molded_images            shape: (1, 1024, 1024, 3)    min: -123.70000  max:  145.10000  float64\n",
            "image_metas              shape: (1, 15)               min:    0.00000  max: 1024.00000  int64\n",
            "anchors                  shape: (1, 261888, 4)        min:   -0.35390  max:    1.29134  float32\n"
          ]
        },
        {
          "output_type": "display_data",
          "data": {
            "text/plain": [
              "<Figure size 576x576 with 1 Axes>"
            ],
            "image/png": "[encoded data removed]"
          },
          "metadata": {
            "needs_background": "light"
          }
        },
        {
          "output_type": "stream",
          "name": "stdout",
          "text": [
            "i----------------------------- %d 23\n",
            "Processing 1 images\n",
            "image                    shape: (1024, 1024, 3)       min:    0.00000  max:  254.00000  uint8\n",
            "molded_images            shape: (1, 1024, 1024, 3)    min: -123.70000  max:  150.10000  float64\n",
            "image_metas              shape: (1, 15)               min:    0.00000  max: 1024.00000  int64\n",
            "anchors                  shape: (1, 261888, 4)        min:   -0.35390  max:    1.29134  float32\n"
          ]
        },
        {
          "output_type": "display_data",
          "data": {
            "text/plain": [
              "<Figure size 576x576 with 1 Axes>"
            ],
            "image/png": "[encoded data removed]"
          },
          "metadata": {
            "needs_background": "light"
          }
        },
        {
          "output_type": "stream",
          "name": "stdout",
          "text": [
            "i----------------------------- %d 24\n",
            "Processing 1 images\n",
            "image                    shape: (1024, 1024, 3)       min:    0.00000  max:  254.00000  uint8\n",
            "molded_images            shape: (1, 1024, 1024, 3)    min: -123.70000  max:  145.10000  float64\n",
            "image_metas              shape: (1, 15)               min:    0.00000  max: 1024.00000  int64\n",
            "anchors                  shape: (1, 261888, 4)        min:   -0.35390  max:    1.29134  float32\n"
          ]
        },
        {
          "output_type": "error",
          "ename": "KeyboardInterrupt",
          "evalue": "ignored",
          "traceback": [
            "\u001b[0;31m---------------------------------------------------------------------------\u001b[0m",
            "\u001b[0;31mKeyboardInterrupt\u001b[0m                         Traceback (most recent call last)",
            "\u001b[0;32m<ipython-input-67-27bba85965b9>\u001b[0m in \u001b[0;36m<module>\u001b[0;34m\u001b[0m\n\u001b[1;32m     42\u001b[0m \u001b[0;31m# print(\"gt_mask\", gt_mask)\u001b[0m\u001b[0;34m\u001b[0m\u001b[0;34m\u001b[0m\u001b[0;34m\u001b[0m\u001b[0m\n\u001b[1;32m     43\u001b[0m \u001b[0;34m\u001b[0m\u001b[0m\n\u001b[0;32m---> 44\u001b[0;31m   \u001b[0mresults\u001b[0m \u001b[0;34m=\u001b[0m \u001b[0mmodel\u001b[0m\u001b[0;34m.\u001b[0m\u001b[0mdetect\u001b[0m\u001b[0;34m(\u001b[0m\u001b[0;34m[\u001b[0m\u001b[0moriginal_image\u001b[0m\u001b[0;34m]\u001b[0m\u001b[0;34m,\u001b[0m \u001b[0mverbose\u001b[0m\u001b[0;34m=\u001b[0m\u001b[0;36m1\u001b[0m\u001b[0;34m)\u001b[0m\u001b[0;34m\u001b[0m\u001b[0;34m\u001b[0m\u001b[0m\n\u001b[0m\u001b[1;32m     45\u001b[0m   \u001b[0mr\u001b[0m \u001b[0;34m=\u001b[0m \u001b[0mresults\u001b[0m\u001b[0;34m[\u001b[0m\u001b[0;36m0\u001b[0m\u001b[0;34m]\u001b[0m\u001b[0;34m\u001b[0m\u001b[0;34m\u001b[0m\u001b[0m\n\u001b[1;32m     46\u001b[0m \u001b[0;34m\u001b[0m\u001b[0m\n",
            "\u001b[0;32m/content/Mask-RCNN-TF2/mrcnn/model.py\u001b[0m in \u001b[0;36mdetect\u001b[0;34m(self, images, verbose)\u001b[0m\n\u001b[1;32m   2539\u001b[0m         \u001b[0;31m# Run object detection\u001b[0m\u001b[0;34m\u001b[0m\u001b[0;34m\u001b[0m\u001b[0;34m\u001b[0m\u001b[0m\n\u001b[1;32m   2540\u001b[0m         \u001b[0mdetections\u001b[0m\u001b[0;34m,\u001b[0m \u001b[0m_\u001b[0m\u001b[0;34m,\u001b[0m \u001b[0m_\u001b[0m\u001b[0;34m,\u001b[0m \u001b[0mmrcnn_mask\u001b[0m\u001b[0;34m,\u001b[0m \u001b[0m_\u001b[0m\u001b[0;34m,\u001b[0m \u001b[0m_\u001b[0m\u001b[0;34m,\u001b[0m \u001b[0m_\u001b[0m \u001b[0;34m=\u001b[0m\u001b[0;31m\\\u001b[0m\u001b[0;34m\u001b[0m\u001b[0;34m\u001b[0m\u001b[0m\n\u001b[0;32m-> 2541\u001b[0;31m             \u001b[0mself\u001b[0m\u001b[0;34m.\u001b[0m\u001b[0mkeras_model\u001b[0m\u001b[0;34m.\u001b[0m\u001b[0mpredict\u001b[0m\u001b[0;34m(\u001b[0m\u001b[0;34m[\u001b[0m\u001b[0mmolded_images\u001b[0m\u001b[0;34m,\u001b[0m \u001b[0mimage_metas\u001b[0m\u001b[0;34m,\u001b[0m \u001b[0manchors\u001b[0m\u001b[0;34m]\u001b[0m\u001b[0;34m,\u001b[0m \u001b[0mverbose\u001b[0m\u001b[0;34m=\u001b[0m\u001b[0;36m0\u001b[0m\u001b[0;34m)\u001b[0m\u001b[0;34m\u001b[0m\u001b[0;34m\u001b[0m\u001b[0m\n\u001b[0m\u001b[1;32m   2542\u001b[0m         \u001b[0;31m# Process detections\u001b[0m\u001b[0;34m\u001b[0m\u001b[0;34m\u001b[0m\u001b[0;34m\u001b[0m\u001b[0m\n\u001b[1;32m   2543\u001b[0m         \u001b[0mresults\u001b[0m \u001b[0;34m=\u001b[0m \u001b[0;34m[\u001b[0m\u001b[0;34m]\u001b[0m\u001b[0;34m\u001b[0m\u001b[0;34m\u001b[0m\u001b[0m\n",
            "\u001b[0;32m/usr/local/lib/python3.8/dist-packages/keras/engine/training.py\u001b[0m in \u001b[0;36mpredict\u001b[0;34m(self, x, batch_size, verbose, steps, callbacks, max_queue_size, workers, use_multiprocessing)\u001b[0m\n\u001b[1;32m   1456\u001b[0m         \u001b[0mself\u001b[0m\u001b[0;34m.\u001b[0m\u001b[0m_make_predict_function\u001b[0m\u001b[0;34m(\u001b[0m\u001b[0;34m)\u001b[0m\u001b[0;34m\u001b[0m\u001b[0;34m\u001b[0m\u001b[0m\n\u001b[1;32m   1457\u001b[0m         \u001b[0mf\u001b[0m \u001b[0;34m=\u001b[0m \u001b[0mself\u001b[0m\u001b[0;34m.\u001b[0m\u001b[0mpredict_function\u001b[0m\u001b[0;34m\u001b[0m\u001b[0;34m\u001b[0m\u001b[0m\n\u001b[0;32m-> 1458\u001b[0;31m         return training_arrays.predict_loop(self, f, ins,\n\u001b[0m\u001b[1;32m   1459\u001b[0m                                             \u001b[0mbatch_size\u001b[0m\u001b[0;34m=\u001b[0m\u001b[0mbatch_size\u001b[0m\u001b[0;34m,\u001b[0m\u001b[0;34m\u001b[0m\u001b[0;34m\u001b[0m\u001b[0m\n\u001b[1;32m   1460\u001b[0m                                             \u001b[0mverbose\u001b[0m\u001b[0;34m=\u001b[0m\u001b[0mverbose\u001b[0m\u001b[0;34m,\u001b[0m\u001b[0;34m\u001b[0m\u001b[0;34m\u001b[0m\u001b[0m\n",
            "\u001b[0;32m/usr/local/lib/python3.8/dist-packages/keras/engine/training_arrays.py\u001b[0m in \u001b[0;36mpredict_loop\u001b[0;34m(model, f, ins, batch_size, verbose, steps, callbacks)\u001b[0m\n\u001b[1;32m    322\u001b[0m             \u001b[0mbatch_logs\u001b[0m \u001b[0;34m=\u001b[0m \u001b[0;34m{\u001b[0m\u001b[0;34m'batch'\u001b[0m\u001b[0;34m:\u001b[0m \u001b[0mbatch_index\u001b[0m\u001b[0;34m,\u001b[0m \u001b[0;34m'size'\u001b[0m\u001b[0;34m:\u001b[0m \u001b[0mlen\u001b[0m\u001b[0;34m(\u001b[0m\u001b[0mbatch_ids\u001b[0m\u001b[0;34m)\u001b[0m\u001b[0;34m}\u001b[0m\u001b[0;34m\u001b[0m\u001b[0;34m\u001b[0m\u001b[0m\n\u001b[1;32m    323\u001b[0m             \u001b[0mcallbacks\u001b[0m\u001b[0;34m.\u001b[0m\u001b[0m_call_batch_hook\u001b[0m\u001b[0;34m(\u001b[0m\u001b[0;34m'predict'\u001b[0m\u001b[0;34m,\u001b[0m \u001b[0;34m'begin'\u001b[0m\u001b[0;34m,\u001b[0m \u001b[0mbatch_index\u001b[0m\u001b[0;34m,\u001b[0m \u001b[0mbatch_logs\u001b[0m\u001b[0;34m)\u001b[0m\u001b[0;34m\u001b[0m\u001b[0;34m\u001b[0m\u001b[0m\n\u001b[0;32m--> 324\u001b[0;31m             \u001b[0mbatch_outs\u001b[0m \u001b[0;34m=\u001b[0m \u001b[0mf\u001b[0m\u001b[0;34m(\u001b[0m\u001b[0mins_batch\u001b[0m\u001b[0;34m)\u001b[0m\u001b[0;34m\u001b[0m\u001b[0;34m\u001b[0m\u001b[0m\n\u001b[0m\u001b[1;32m    325\u001b[0m             \u001b[0mbatch_outs\u001b[0m \u001b[0;34m=\u001b[0m \u001b[0mto_list\u001b[0m\u001b[0;34m(\u001b[0m\u001b[0mbatch_outs\u001b[0m\u001b[0;34m)\u001b[0m\u001b[0;34m\u001b[0m\u001b[0;34m\u001b[0m\u001b[0m\n\u001b[1;32m    326\u001b[0m             \u001b[0;32mif\u001b[0m \u001b[0mbatch_index\u001b[0m \u001b[0;34m==\u001b[0m \u001b[0;36m0\u001b[0m\u001b[0;34m:\u001b[0m\u001b[0;34m\u001b[0m\u001b[0;34m\u001b[0m\u001b[0m\n",
            "\u001b[0;32m/usr/local/lib/python3.8/dist-packages/tensorflow/python/keras/backend.py\u001b[0m in \u001b[0;36m__call__\u001b[0;34m(self, inputs)\u001b[0m\n\u001b[1;32m   3790\u001b[0m         \u001b[0mvalue\u001b[0m \u001b[0;34m=\u001b[0m \u001b[0mmath_ops\u001b[0m\u001b[0;34m.\u001b[0m\u001b[0mcast\u001b[0m\u001b[0;34m(\u001b[0m\u001b[0mvalue\u001b[0m\u001b[0;34m,\u001b[0m \u001b[0mtensor\u001b[0m\u001b[0;34m.\u001b[0m\u001b[0mdtype\u001b[0m\u001b[0;34m)\u001b[0m\u001b[0;34m\u001b[0m\u001b[0;34m\u001b[0m\u001b[0m\n\u001b[1;32m   3791\u001b[0m       \u001b[0mconverted_inputs\u001b[0m\u001b[0;34m.\u001b[0m\u001b[0mappend\u001b[0m\u001b[0;34m(\u001b[0m\u001b[0mvalue\u001b[0m\u001b[0;34m)\u001b[0m\u001b[0;34m\u001b[0m\u001b[0;34m\u001b[0m\u001b[0m\n\u001b[0;32m-> 3792\u001b[0;31m     \u001b[0moutputs\u001b[0m \u001b[0;34m=\u001b[0m \u001b[0mself\u001b[0m\u001b[0;34m.\u001b[0m\u001b[0m_graph_fn\u001b[0m\u001b[0;34m(\u001b[0m\u001b[0;34m*\u001b[0m\u001b[0mconverted_inputs\u001b[0m\u001b[0;34m)\u001b[0m\u001b[0;34m\u001b[0m\u001b[0;34m\u001b[0m\u001b[0m\n\u001b[0m\u001b[1;32m   3793\u001b[0m \u001b[0;34m\u001b[0m\u001b[0m\n\u001b[1;32m   3794\u001b[0m     \u001b[0;31m# EagerTensor.numpy() will often make a copy to ensure memory safety.\u001b[0m\u001b[0;34m\u001b[0m\u001b[0;34m\u001b[0m\u001b[0;34m\u001b[0m\u001b[0m\n",
            "\u001b[0;32m/usr/local/lib/python3.8/dist-packages/tensorflow/python/eager/function.py\u001b[0m in \u001b[0;36m__call__\u001b[0;34m(self, *args, **kwargs)\u001b[0m\n\u001b[1;32m   1603\u001b[0m       \u001b[0mTypeError\u001b[0m\u001b[0;34m:\u001b[0m \u001b[0mFor\u001b[0m \u001b[0minvalid\u001b[0m \u001b[0mpositional\u001b[0m\u001b[0;34m/\u001b[0m\u001b[0mkeyword\u001b[0m \u001b[0margument\u001b[0m \u001b[0mcombinations\u001b[0m\u001b[0;34m.\u001b[0m\u001b[0;34m\u001b[0m\u001b[0;34m\u001b[0m\u001b[0m\n\u001b[1;32m   1604\u001b[0m     \"\"\"\n\u001b[0;32m-> 1605\u001b[0;31m     \u001b[0;32mreturn\u001b[0m \u001b[0mself\u001b[0m\u001b[0;34m.\u001b[0m\u001b[0m_call_impl\u001b[0m\u001b[0;34m(\u001b[0m\u001b[0margs\u001b[0m\u001b[0;34m,\u001b[0m \u001b[0mkwargs\u001b[0m\u001b[0;34m)\u001b[0m\u001b[0;34m\u001b[0m\u001b[0;34m\u001b[0m\u001b[0m\n\u001b[0m\u001b[1;32m   1606\u001b[0m \u001b[0;34m\u001b[0m\u001b[0m\n\u001b[1;32m   1607\u001b[0m   \u001b[0;32mdef\u001b[0m \u001b[0m_call_impl\u001b[0m\u001b[0;34m(\u001b[0m\u001b[0mself\u001b[0m\u001b[0;34m,\u001b[0m \u001b[0margs\u001b[0m\u001b[0;34m,\u001b[0m \u001b[0mkwargs\u001b[0m\u001b[0;34m,\u001b[0m \u001b[0mcancellation_manager\u001b[0m\u001b[0;34m=\u001b[0m\u001b[0;32mNone\u001b[0m\u001b[0;34m)\u001b[0m\u001b[0;34m:\u001b[0m\u001b[0;34m\u001b[0m\u001b[0;34m\u001b[0m\u001b[0m\n",
            "\u001b[0;32m/usr/local/lib/python3.8/dist-packages/tensorflow/python/eager/function.py\u001b[0m in \u001b[0;36m_call_impl\u001b[0;34m(self, args, kwargs, cancellation_manager)\u001b[0m\n\u001b[1;32m   1643\u001b[0m       raise TypeError(\"Keyword arguments {} unknown. Expected {}.\".format(\n\u001b[1;32m   1644\u001b[0m           list(kwargs.keys()), list(self._arg_keywords)))\n\u001b[0;32m-> 1645\u001b[0;31m     \u001b[0;32mreturn\u001b[0m \u001b[0mself\u001b[0m\u001b[0;34m.\u001b[0m\u001b[0m_call_flat\u001b[0m\u001b[0;34m(\u001b[0m\u001b[0margs\u001b[0m\u001b[0;34m,\u001b[0m \u001b[0mself\u001b[0m\u001b[0;34m.\u001b[0m\u001b[0mcaptured_inputs\u001b[0m\u001b[0;34m,\u001b[0m \u001b[0mcancellation_manager\u001b[0m\u001b[0;34m)\u001b[0m\u001b[0;34m\u001b[0m\u001b[0;34m\u001b[0m\u001b[0m\n\u001b[0m\u001b[1;32m   1646\u001b[0m \u001b[0;34m\u001b[0m\u001b[0m\n\u001b[1;32m   1647\u001b[0m   \u001b[0;32mdef\u001b[0m \u001b[0m_filtered_call\u001b[0m\u001b[0;34m(\u001b[0m\u001b[0mself\u001b[0m\u001b[0;34m,\u001b[0m \u001b[0margs\u001b[0m\u001b[0;34m,\u001b[0m \u001b[0mkwargs\u001b[0m\u001b[0;34m)\u001b[0m\u001b[0;34m:\u001b[0m\u001b[0;34m\u001b[0m\u001b[0;34m\u001b[0m\u001b[0m\n",
            "\u001b[0;32m/usr/local/lib/python3.8/dist-packages/tensorflow/python/eager/function.py\u001b[0m in \u001b[0;36m_call_flat\u001b[0;34m(self, args, captured_inputs, cancellation_manager)\u001b[0m\n\u001b[1;32m   1743\u001b[0m         and executing_eagerly):\n\u001b[1;32m   1744\u001b[0m       \u001b[0;31m# No tape is watching; skip to running the function.\u001b[0m\u001b[0;34m\u001b[0m\u001b[0;34m\u001b[0m\u001b[0;34m\u001b[0m\u001b[0m\n\u001b[0;32m-> 1745\u001b[0;31m       return self._build_call_outputs(self._inference_function.call(\n\u001b[0m\u001b[1;32m   1746\u001b[0m           ctx, args, cancellation_manager=cancellation_manager))\n\u001b[1;32m   1747\u001b[0m     forward_backward = self._select_forward_and_backward_functions(\n",
            "\u001b[0;32m/usr/local/lib/python3.8/dist-packages/tensorflow/python/eager/function.py\u001b[0m in \u001b[0;36mcall\u001b[0;34m(self, ctx, args, cancellation_manager)\u001b[0m\n\u001b[1;32m    591\u001b[0m       \u001b[0;32mwith\u001b[0m \u001b[0m_InterpolateFunctionError\u001b[0m\u001b[0;34m(\u001b[0m\u001b[0mself\u001b[0m\u001b[0;34m)\u001b[0m\u001b[0;34m:\u001b[0m\u001b[0;34m\u001b[0m\u001b[0;34m\u001b[0m\u001b[0m\n\u001b[1;32m    592\u001b[0m         \u001b[0;32mif\u001b[0m \u001b[0mcancellation_manager\u001b[0m \u001b[0;32mis\u001b[0m \u001b[0;32mNone\u001b[0m\u001b[0;34m:\u001b[0m\u001b[0;34m\u001b[0m\u001b[0;34m\u001b[0m\u001b[0m\n\u001b[0;32m--> 593\u001b[0;31m           outputs = execute.execute(\n\u001b[0m\u001b[1;32m    594\u001b[0m               \u001b[0mstr\u001b[0m\u001b[0;34m(\u001b[0m\u001b[0mself\u001b[0m\u001b[0;34m.\u001b[0m\u001b[0msignature\u001b[0m\u001b[0;34m.\u001b[0m\u001b[0mname\u001b[0m\u001b[0;34m)\u001b[0m\u001b[0;34m,\u001b[0m\u001b[0;34m\u001b[0m\u001b[0;34m\u001b[0m\u001b[0m\n\u001b[1;32m    595\u001b[0m               \u001b[0mnum_outputs\u001b[0m\u001b[0;34m=\u001b[0m\u001b[0mself\u001b[0m\u001b[0;34m.\u001b[0m\u001b[0m_num_outputs\u001b[0m\u001b[0;34m,\u001b[0m\u001b[0;34m\u001b[0m\u001b[0;34m\u001b[0m\u001b[0m\n",
            "\u001b[0;32m/usr/local/lib/python3.8/dist-packages/tensorflow/python/eager/execute.py\u001b[0m in \u001b[0;36mquick_execute\u001b[0;34m(op_name, num_outputs, inputs, attrs, ctx, name)\u001b[0m\n\u001b[1;32m     57\u001b[0m   \u001b[0;32mtry\u001b[0m\u001b[0;34m:\u001b[0m\u001b[0;34m\u001b[0m\u001b[0;34m\u001b[0m\u001b[0m\n\u001b[1;32m     58\u001b[0m     \u001b[0mctx\u001b[0m\u001b[0;34m.\u001b[0m\u001b[0mensure_initialized\u001b[0m\u001b[0;34m(\u001b[0m\u001b[0;34m)\u001b[0m\u001b[0;34m\u001b[0m\u001b[0;34m\u001b[0m\u001b[0m\n\u001b[0;32m---> 59\u001b[0;31m     tensors = pywrap_tfe.TFE_Py_Execute(ctx._handle, device_name, op_name,\n\u001b[0m\u001b[1;32m     60\u001b[0m                                         inputs, attrs, num_outputs)\n\u001b[1;32m     61\u001b[0m   \u001b[0;32mexcept\u001b[0m \u001b[0mcore\u001b[0m\u001b[0;34m.\u001b[0m\u001b[0m_NotOkStatusException\u001b[0m \u001b[0;32mas\u001b[0m \u001b[0me\u001b[0m\u001b[0;34m:\u001b[0m\u001b[0;34m\u001b[0m\u001b[0;34m\u001b[0m\u001b[0m\n",
            "\u001b[0;31mKeyboardInterrupt\u001b[0m: "
          ]
        }
      ]
    }
  ],
  "metadata": {
    "colab": {
      "provenance": [],
      "authorship_tag": "ABX9TyMfa67g4GbJhZud8eaw9Sg7",
      "include_colab_link": true
    },
    "gpuClass": "premium",
    "kernelspec": {
      "display_name": "Python 3",
      "name": "python3"
    },
    "language_info": {
      "name": "python"
    },
    "accelerator": "GPU"
  },
  "nbformat": 4,
  "nbformat_minor": 0
}